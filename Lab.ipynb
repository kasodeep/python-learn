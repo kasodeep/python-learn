{
  "cells": [
    {
      "cell_type": "markdown",
      "metadata": {
        "id": "7JbXJYVQYfGt"
      },
      "source": [
        "## Programs for Python Lab."
      ]
    },
    {
      "cell_type": "markdown",
      "metadata": {
        "id": "sni5mo0kg6kw"
      },
      "source": [
        "### Basics"
      ]
    },
    {
      "cell_type": "code",
      "execution_count": null,
      "metadata": {
        "colab": {
          "base_uri": "https://localhost:8080/"
        },
        "id": "lBMSa0cmWqIs",
        "outputId": "4504505c-85e6-43c1-a82b-e980d4fbd8aa"
      },
      "outputs": [
        {
          "name": "stdout",
          "output_type": "stream",
          "text": [
            "Hello World\n"
          ]
        }
      ],
      "source": [
        "# First Program\n",
        "# You can use both double as well as single quote.\n",
        "print(\"Hello World\")"
      ]
    },
    {
      "cell_type": "code",
      "execution_count": null,
      "metadata": {
        "colab": {
          "base_uri": "https://localhost:8080/"
        },
        "id": "B65HkJ9XYqdS",
        "outputId": "c936636d-6297-448e-b991-b94933c78020"
      },
      "outputs": [
        {
          "name": "stdout",
          "output_type": "stream",
          "text": [
            "VJTI\n"
          ]
        }
      ],
      "source": [
        "# Python uses indentation rather than brackets.\n",
        "if(2 > 1):\n",
        "  print(\"VJTI\")\n",
        "else:\n",
        "  print(\"John Cena\")"
      ]
    },
    {
      "cell_type": "code",
      "execution_count": null,
      "metadata": {
        "colab": {
          "base_uri": "https://localhost:8080/",
          "height": 35
        },
        "id": "wf52MKCOZmJz",
        "outputId": "fb9e3ae6-af23-4076-fc16-73e101773585"
      },
      "outputs": [
        {
          "data": {
            "application/vnd.google.colaboratory.intrinsic+json": {
              "type": "string"
            },
            "text/plain": [
              "'\\nThis is a multiline comment.\\n'"
            ]
          },
          "execution_count": 3,
          "metadata": {},
          "output_type": "execute_result"
        }
      ],
      "source": [
        "# This is a comment.\n",
        "'''\n",
        "This is a multiline comment.\n",
        "'''"
      ]
    },
    {
      "cell_type": "markdown",
      "metadata": {
        "id": "cHnt53_MeuXV"
      },
      "source": [
        "### Variables"
      ]
    },
    {
      "cell_type": "code",
      "execution_count": null,
      "metadata": {
        "colab": {
          "base_uri": "https://localhost:8080/"
        },
        "id": "u2jBpVoiaHoE",
        "outputId": "42b5cd13-2d57-451f-e59b-3e168669529b"
      },
      "outputs": [
        {
          "name": "stdout",
          "output_type": "stream",
          "text": [
            "17 <class 'int'>\n",
            "1.7 <class 'float'>\n",
            "H <class 'str'>\n"
          ]
        }
      ],
      "source": [
        "# Variable Declaration.\n",
        "\n",
        "a = 17\n",
        "print(a, type(a)) # Printing the data-type of a variable.\n",
        "\n",
        "a = 1.7\n",
        "print(a, type(a))\n",
        "\n",
        "# char is not applicable in Python.\n",
        "a = 'H'\n",
        "print(a, type(a))"
      ]
    },
    {
      "cell_type": "markdown",
      "metadata": {
        "id": "VYq0QZGDe6pQ"
      },
      "source": [
        "### Type Casting"
      ]
    },
    {
      "cell_type": "code",
      "execution_count": null,
      "metadata": {
        "colab": {
          "base_uri": "https://localhost:8080/"
        },
        "id": "3noNIEB-bNq4",
        "outputId": "ec1c0090-d77a-4c91-8bbe-13b0a4d3bd73"
      },
      "outputs": [
        {
          "name": "stdout",
          "output_type": "stream",
          "text": [
            "1 <class 'str'>\n",
            "1 <class 'int'>\n",
            "1 <class 'str'>\n",
            "2.0 <class 'float'>\n"
          ]
        }
      ],
      "source": [
        "# Type Casting\n",
        "# Case Sensitive\n",
        "\n",
        "a = str(1)\n",
        "print(a, type(a))\n",
        "\n",
        "# int() is a constructor of class 'int'\n",
        "a = int(1)\n",
        "print(a, type(a))\n",
        "\n",
        "A = str(1)\n",
        "print(A, type(A))\n",
        "\n",
        "B = float(\"2\")\n",
        "print(B, type(B))"
      ]
    },
    {
      "cell_type": "markdown",
      "metadata": {
        "id": "CaiH1i5Ue_i9"
      },
      "source": [
        "### Casing"
      ]
    },
    {
      "cell_type": "code",
      "execution_count": null,
      "metadata": {
        "colab": {
          "base_uri": "https://localhost:8080/"
        },
        "id": "5d0ZTETOcid0",
        "outputId": "de6122e5-8747-4535-957b-e63f6bf273ee"
      },
      "outputs": [
        {
          "name": "stdout",
          "output_type": "stream",
          "text": [
            "SureshBhai\n"
          ]
        }
      ],
      "source": [
        "# Legal Variables\n",
        "# Variable name must start with character or underscore.\n",
        "# Aplha-Numeric characters and underscore is allowed (A-z, 0-9, ..)\n",
        "\n",
        "myName = 'Deep'\n",
        "_myName = 'Kasodariya'\n",
        "my_name = 'SureshBhai'\n",
        "\n",
        "print(my_name)\n",
        "\n",
        "# $myMoney = \"2000\" Not Allowed\n",
        "\n",
        "instituteStudentRollNumber = 221080029 # camel Case\n",
        "InstituteStudentRollNumber = 221080029 # Pascal Case\n",
        "institute_student_roll_number = 221080029 # snake_case"
      ]
    },
    {
      "cell_type": "markdown",
      "metadata": {
        "id": "GivLjl2CfCd6"
      },
      "source": [
        "### Memory Management"
      ]
    },
    {
      "cell_type": "code",
      "execution_count": null,
      "metadata": {
        "colab": {
          "base_uri": "https://localhost:8080/"
        },
        "id": "21axNupte59D",
        "outputId": "9c979a55-7adc-4e01-e653-850664928009"
      },
      "outputs": [
        {
          "name": "stdout",
          "output_type": "stream",
          "text": [
            "1 2 3 133141214019824 133141214019856 133141214019888\n",
            "1 2 3 133141214019824 133141214019856 133141214019888\n",
            "1 2.5 Roman Reigns 133141214019824 133140785709680 133140785973168\n",
            "2.5 1 133140785709680 133141214019824\n"
          ]
        }
      ],
      "source": [
        "a = 1\n",
        "b = 2\n",
        "c = 3\n",
        "\n",
        "# id() gives the memory address of the variable.\n",
        "print(a, b, c, id(a), id(b), id(c))\n",
        "\n",
        "# a1 started to point to the same memory location as a.\n",
        "a1, b1, c1 = 1, 2, 3\n",
        "print(a1, b1, c1, id(a1), id(b1), id(c1))\n",
        "\n",
        "a, b, c = 1, 2.5, \"Roman Reigns\"\n",
        "print(a, b, c, id(a), id(b), id(c))\n",
        "\n",
        "# Swap Two Variables\n",
        "a, b = b, a\n",
        "print(a, b, id(a), id(b))\n",
        "\n",
        "# It is memory efficient and does not allocate new memory if the number is already in the memory."
      ]
    },
    {
      "cell_type": "markdown",
      "metadata": {
        "id": "8qPw-d52fJZX"
      },
      "source": [
        "### List"
      ]
    },
    {
      "cell_type": "code",
      "execution_count": null,
      "metadata": {
        "colab": {
          "base_uri": "https://localhost:8080/"
        },
        "id": "K102FvYBg0wC",
        "outputId": "b979d39c-cda1-42cf-e86d-15f9d787263d"
      },
      "outputs": [
        {
          "name": "stdout",
          "output_type": "stream",
          "text": [
            "[1, 2, 3] <class 'list'>\n",
            "[17, 'Jey Uso', 83.5] <class 'list'>\n",
            "17 <class 'int'> Jey Uso <class 'str'> 83.5 <class 'float'>\n"
          ]
        }
      ],
      "source": [
        "# Collection Value (list)\n",
        "a = [1, 2, 3]\n",
        "print(a, type(a))\n",
        "\n",
        "a = [17, \"Jey Uso\", 83.5]\n",
        "print(a, type(a))\n",
        "\n",
        "x, y, z = a # Unpack the collection\n",
        "print(x, type(x), y, type(y), z, type(z))"
      ]
    },
    {
      "cell_type": "code",
      "execution_count": null,
      "metadata": {
        "colab": {
          "base_uri": "https://localhost:8080/"
        },
        "id": "1miCT8oHjiQT",
        "outputId": "90bef555-e72a-4bbf-ad08-f0e6fa0dc0ca"
      },
      "outputs": [
        {
          "name": "stdout",
          "output_type": "stream",
          "text": [
            "Brock Lesner\n",
            "BrockLesner\n",
            "Lesner Brock\n",
            "Brock Lesner\n"
          ]
        }
      ],
      "source": [
        "a = \"Lesner\"\n",
        "print('Brock', a)\n",
        "\n",
        "a = \"Brock\"\n",
        "b = \"Lesner\"\n",
        "\n",
        "# String Concatenation\n",
        "print(a + b)\n",
        "print(b + \" \" + a)\n",
        "\n",
        "c = a + \" \" + b\n",
        "print(c)"
      ]
    },
    {
      "cell_type": "markdown",
      "metadata": {
        "id": "2bwe9F5WfMz4"
      },
      "source": [
        "### Arithmetic"
      ]
    },
    {
      "cell_type": "code",
      "execution_count": null,
      "metadata": {
        "colab": {
          "base_uri": "https://localhost:8080/"
        },
        "id": "zTlXXWFJlQZz",
        "outputId": "c3bb509e-0c59-4439-bd60-31ea322441ab"
      },
      "outputs": [
        {
          "name": "stdout",
          "output_type": "stream",
          "text": [
            "12\n",
            "8\n",
            "20\n",
            "5.0\n",
            "2222222222\n"
          ]
        }
      ],
      "source": [
        "# Arithmetic Operations\n",
        "\n",
        "a = 2\n",
        "b = 10\n",
        "print(a + b)\n",
        "print(b - a)\n",
        "print(b * a)\n",
        "\n",
        "# Divison will always be float by default\n",
        "print(b / a)\n",
        "\n",
        "a = '2'\n",
        "b = 10\n",
        "# print(a + \" \" + b)\n",
        "\n",
        "# Only multiplication works with strings.\n",
        "# a will be printed 10 times\n",
        "print(b * a)"
      ]
    },
    {
      "cell_type": "markdown",
      "metadata": {
        "id": "UCxcemBZfRTr"
      },
      "source": [
        "### Print Format"
      ]
    },
    {
      "cell_type": "code",
      "execution_count": null,
      "metadata": {
        "colab": {
          "base_uri": "https://localhost:8080/"
        },
        "id": "Lx7EYNbnmSfy",
        "outputId": "dd82bff6-6a65-45f3-e116-0da8a722202a"
      },
      "outputs": [
        {
          "name": "stdout",
          "output_type": "stream",
          "text": [
            "The value of a = 1 and the value of b = 2\n",
            "The value of a = 1 and the value of b = 2\n",
            "The value of a = 1 and the value of b = 2\n",
            "The value of a = 1 the value of b = 2\n"
          ]
        }
      ],
      "source": [
        "# Printing Statements\n",
        "\n",
        "a, b = 1, 2\n",
        "print(\"The value of a = {} and the value of b = {}\".format(a, b))\n",
        "print(f\"The value of a = {a} and the value of b = {b}\")\n",
        "print(F\"The value of a = {a} and the value of b = {b}\")\n",
        "\n",
        "# When a is integer + will give error in print statement.\n",
        "print(\"The value of a =\", a, \"the value of b =\", b)"
      ]
    },
    {
      "cell_type": "markdown",
      "metadata": {
        "id": "TNA8L4SCfTzT"
      },
      "source": [
        "### Data-Types"
      ]
    },
    {
      "cell_type": "code",
      "execution_count": null,
      "metadata": {
        "colab": {
          "base_uri": "https://localhost:8080/"
        },
        "id": "HqXi6CoBojWl",
        "outputId": "351b222b-5bdd-4539-ca81-bfc38a0dd633"
      },
      "outputs": [
        {
          "name": "stdout",
          "output_type": "stream",
          "text": [
            "(1+2j) <class 'complex'>\n",
            "(1, 2, 3) <class 'tuple'>\n",
            "True <class 'bool'>\n",
            "range(0, 5) <class 'range'>\n",
            "{1, 2, 3} <class 'set'>\n",
            "{'key1': 'value1', 'key2': 'value2', 'key3': 'value3'} <class 'dict'>\n"
          ]
        }
      ],
      "source": [
        "# Different Data Types\n",
        "\n",
        "a = 1 + 2j\n",
        "print(a, type(a))\n",
        "\n",
        "a = (1, 2, 3)\n",
        "print(a, type(a))\n",
        "\n",
        "a = True\n",
        "print(a, type(a))\n",
        "\n",
        "a = range(5)\n",
        "print(a, type(a))\n",
        "\n",
        "a = {1, 2, 3}\n",
        "print(a, type(a))\n",
        "\n",
        "a = {\n",
        "    \"key1\" : \"value1\",\n",
        "    \"key2\" : \"value2\",\n",
        "    \"key3\" : \"value3\"\n",
        "}\n",
        "print(a, type(a))"
      ]
    },
    {
      "cell_type": "code",
      "execution_count": null,
      "metadata": {
        "colab": {
          "base_uri": "https://localhost:8080/"
        },
        "id": "TRNmijQoqRCj",
        "outputId": "b018f4c9-3d12-448a-9218-9656976072ed"
      },
      "outputs": [
        {
          "name": "stdout",
          "output_type": "stream",
          "text": [
            "1 <class 'int'>\n",
            "123456789123456 <class 'int'>\n",
            "-20.9 <class 'float'>\n",
            "\n",
            "100.0 <class 'float'>\n",
            "120000000000.0 <class 'float'>\n",
            "-20100000.0 <class 'float'>\n",
            "\n",
            "10j <class 'complex'>\n",
            "(-0-20j) <class 'complex'>\n",
            "-0.0 <class 'float'> -20.0 <class 'float'>\n",
            "(1+2j) <class 'complex'>\n",
            "2j <class 'complex'>\n",
            "\n",
            "(1+0j) <class 'complex'>\n",
            "0j <class 'complex'>\n",
            "(1-2j) <class 'complex'>\n"
          ]
        }
      ],
      "source": [
        "a = 1\n",
        "print(a, type(a))\n",
        "\n",
        "b = 123456789123456\n",
        "print(b, type(b))\n",
        "\n",
        "c = -20.9\n",
        "print(c, type(c))\n",
        "print()\n",
        "\n",
        "# Output will be in float\n",
        "a = 1e2\n",
        "print(a, type(a))\n",
        "\n",
        "b = 12E10\n",
        "print(b, type(b))\n",
        "\n",
        "# For c = 20.1e-6, it will the same number as output and not simplify.\n",
        "c = -20.1e6\n",
        "print(c, type(c))\n",
        "print()\n",
        "\n",
        "b = 10j\n",
        "c = -20j\n",
        "print(b, type(b))\n",
        "\n",
        "# For negative it will be -0-20j\n",
        "print(c, type(c))\n",
        "print(c.real, type(c.real), c.imag, type(c.imag))\n",
        "\n",
        "a = complex(1, 2)\n",
        "print(a, type(a))\n",
        "\n",
        "a = complex(0, 2)\n",
        "print(a, type(a))\n",
        "print()\n",
        "\n",
        "a = complex(1)\n",
        "print(a, type(a))\n",
        "\n",
        "a = complex()\n",
        "print(a, type(a))\n",
        "\n",
        "a = complex(\"1-2j\")\n",
        "print(a, type(a))"
      ]
    },
    {
      "cell_type": "markdown",
      "metadata": {
        "id": "u6-JEpCHfaVK"
      },
      "source": [
        "### Import"
      ]
    },
    {
      "cell_type": "code",
      "execution_count": null,
      "metadata": {
        "colab": {
          "base_uri": "https://localhost:8080/"
        },
        "id": "D7utWtxdW9by",
        "outputId": "a35fc194-01c1-42bd-c3e3-e5fce59dcbc4"
      },
      "outputs": [
        {
          "name": "stdout",
          "output_type": "stream",
          "text": [
            "Help on built-in module math:\n",
            "\n",
            "NAME\n",
            "    math\n",
            "\n",
            "DESCRIPTION\n",
            "    This module provides access to the mathematical functions\n",
            "    defined by the C standard.\n",
            "\n",
            "FUNCTIONS\n",
            "    acos(x, /)\n",
            "        Return the arc cosine (measured in radians) of x.\n",
            "        \n",
            "        The result is between 0 and pi.\n",
            "    \n",
            "    acosh(x, /)\n",
            "        Return the inverse hyperbolic cosine of x.\n",
            "    \n",
            "    asin(x, /)\n",
            "        Return the arc sine (measured in radians) of x.\n",
            "        \n",
            "        The result is between -pi/2 and pi/2.\n",
            "    \n",
            "    asinh(x, /)\n",
            "        Return the inverse hyperbolic sine of x.\n",
            "    \n",
            "    atan(x, /)\n",
            "        Return the arc tangent (measured in radians) of x.\n",
            "        \n",
            "        The result is between -pi/2 and pi/2.\n",
            "    \n",
            "    atan2(y, x, /)\n",
            "        Return the arc tangent (measured in radians) of y/x.\n",
            "        \n",
            "        Unlike atan(y/x), the signs of both x and y are considered.\n",
            "    \n",
            "    atanh(x, /)\n",
            "        Return the inverse hyperbolic tangent of x.\n",
            "    \n",
            "    ceil(x, /)\n",
            "        Return the ceiling of x as an Integral.\n",
            "        \n",
            "        This is the smallest integer >= x.\n",
            "    \n",
            "    comb(n, k, /)\n",
            "        Number of ways to choose k items from n items without repetition and without order.\n",
            "        \n",
            "        Evaluates to n! / (k! * (n - k)!) when k <= n and evaluates\n",
            "        to zero when k > n.\n",
            "        \n",
            "        Also called the binomial coefficient because it is equivalent\n",
            "        to the coefficient of k-th term in polynomial expansion of the\n",
            "        expression (1 + x)**n.\n",
            "        \n",
            "        Raises TypeError if either of the arguments are not integers.\n",
            "        Raises ValueError if either of the arguments are negative.\n",
            "    \n",
            "    copysign(x, y, /)\n",
            "        Return a float with the magnitude (absolute value) of x but the sign of y.\n",
            "        \n",
            "        On platforms that support signed zeros, copysign(1.0, -0.0)\n",
            "        returns -1.0.\n",
            "    \n",
            "    cos(x, /)\n",
            "        Return the cosine of x (measured in radians).\n",
            "    \n",
            "    cosh(x, /)\n",
            "        Return the hyperbolic cosine of x.\n",
            "    \n",
            "    degrees(x, /)\n",
            "        Convert angle x from radians to degrees.\n",
            "    \n",
            "    dist(p, q, /)\n",
            "        Return the Euclidean distance between two points p and q.\n",
            "        \n",
            "        The points should be specified as sequences (or iterables) of\n",
            "        coordinates.  Both inputs must have the same dimension.\n",
            "        \n",
            "        Roughly equivalent to:\n",
            "            sqrt(sum((px - qx) ** 2.0 for px, qx in zip(p, q)))\n",
            "    \n",
            "    erf(x, /)\n",
            "        Error function at x.\n",
            "    \n",
            "    erfc(x, /)\n",
            "        Complementary error function at x.\n",
            "    \n",
            "    exp(x, /)\n",
            "        Return e raised to the power of x.\n",
            "    \n",
            "    expm1(x, /)\n",
            "        Return exp(x)-1.\n",
            "        \n",
            "        This function avoids the loss of precision involved in the direct evaluation of exp(x)-1 for small x.\n",
            "    \n",
            "    fabs(x, /)\n",
            "        Return the absolute value of the float x.\n",
            "    \n",
            "    factorial(x, /)\n",
            "        Find x!.\n",
            "        \n",
            "        Raise a ValueError if x is negative or non-integral.\n",
            "    \n",
            "    floor(x, /)\n",
            "        Return the floor of x as an Integral.\n",
            "        \n",
            "        This is the largest integer <= x.\n",
            "    \n",
            "    fmod(x, y, /)\n",
            "        Return fmod(x, y), according to platform C.\n",
            "        \n",
            "        x % y may differ.\n",
            "    \n",
            "    frexp(x, /)\n",
            "        Return the mantissa and exponent of x, as pair (m, e).\n",
            "        \n",
            "        m is a float and e is an int, such that x = m * 2.**e.\n",
            "        If x is 0, m and e are both 0.  Else 0.5 <= abs(m) < 1.0.\n",
            "    \n",
            "    fsum(seq, /)\n",
            "        Return an accurate floating point sum of values in the iterable seq.\n",
            "        \n",
            "        Assumes IEEE-754 floating point arithmetic.\n",
            "    \n",
            "    gamma(x, /)\n",
            "        Gamma function at x.\n",
            "    \n",
            "    gcd(*integers)\n",
            "        Greatest Common Divisor.\n",
            "    \n",
            "    hypot(...)\n",
            "        hypot(*coordinates) -> value\n",
            "        \n",
            "        Multidimensional Euclidean distance from the origin to a point.\n",
            "        \n",
            "        Roughly equivalent to:\n",
            "            sqrt(sum(x**2 for x in coordinates))\n",
            "        \n",
            "        For a two dimensional point (x, y), gives the hypotenuse\n",
            "        using the Pythagorean theorem:  sqrt(x*x + y*y).\n",
            "        \n",
            "        For example, the hypotenuse of a 3/4/5 right triangle is:\n",
            "        \n",
            "            >>> hypot(3.0, 4.0)\n",
            "            5.0\n",
            "    \n",
            "    isclose(a, b, *, rel_tol=1e-09, abs_tol=0.0)\n",
            "        Determine whether two floating point numbers are close in value.\n",
            "        \n",
            "          rel_tol\n",
            "            maximum difference for being considered \"close\", relative to the\n",
            "            magnitude of the input values\n",
            "          abs_tol\n",
            "            maximum difference for being considered \"close\", regardless of the\n",
            "            magnitude of the input values\n",
            "        \n",
            "        Return True if a is close in value to b, and False otherwise.\n",
            "        \n",
            "        For the values to be considered close, the difference between them\n",
            "        must be smaller than at least one of the tolerances.\n",
            "        \n",
            "        -inf, inf and NaN behave similarly to the IEEE 754 Standard.  That\n",
            "        is, NaN is not close to anything, even itself.  inf and -inf are\n",
            "        only close to themselves.\n",
            "    \n",
            "    isfinite(x, /)\n",
            "        Return True if x is neither an infinity nor a NaN, and False otherwise.\n",
            "    \n",
            "    isinf(x, /)\n",
            "        Return True if x is a positive or negative infinity, and False otherwise.\n",
            "    \n",
            "    isnan(x, /)\n",
            "        Return True if x is a NaN (not a number), and False otherwise.\n",
            "    \n",
            "    isqrt(n, /)\n",
            "        Return the integer part of the square root of the input.\n",
            "    \n",
            "    lcm(*integers)\n",
            "        Least Common Multiple.\n",
            "    \n",
            "    ldexp(x, i, /)\n",
            "        Return x * (2**i).\n",
            "        \n",
            "        This is essentially the inverse of frexp().\n",
            "    \n",
            "    lgamma(x, /)\n",
            "        Natural logarithm of absolute value of Gamma function at x.\n",
            "    \n",
            "    log(...)\n",
            "        log(x, [base=math.e])\n",
            "        Return the logarithm of x to the given base.\n",
            "        \n",
            "        If the base not specified, returns the natural logarithm (base e) of x.\n",
            "    \n",
            "    log10(x, /)\n",
            "        Return the base 10 logarithm of x.\n",
            "    \n",
            "    log1p(x, /)\n",
            "        Return the natural logarithm of 1+x (base e).\n",
            "        \n",
            "        The result is computed in a way which is accurate for x near zero.\n",
            "    \n",
            "    log2(x, /)\n",
            "        Return the base 2 logarithm of x.\n",
            "    \n",
            "    modf(x, /)\n",
            "        Return the fractional and integer parts of x.\n",
            "        \n",
            "        Both results carry the sign of x and are floats.\n",
            "    \n",
            "    nextafter(x, y, /)\n",
            "        Return the next floating-point value after x towards y.\n",
            "    \n",
            "    perm(n, k=None, /)\n",
            "        Number of ways to choose k items from n items without repetition and with order.\n",
            "        \n",
            "        Evaluates to n! / (n - k)! when k <= n and evaluates\n",
            "        to zero when k > n.\n",
            "        \n",
            "        If k is not specified or is None, then k defaults to n\n",
            "        and the function returns n!.\n",
            "        \n",
            "        Raises TypeError if either of the arguments are not integers.\n",
            "        Raises ValueError if either of the arguments are negative.\n",
            "    \n",
            "    pow(x, y, /)\n",
            "        Return x**y (x to the power of y).\n",
            "    \n",
            "    prod(iterable, /, *, start=1)\n",
            "        Calculate the product of all the elements in the input iterable.\n",
            "        \n",
            "        The default start value for the product is 1.\n",
            "        \n",
            "        When the iterable is empty, return the start value.  This function is\n",
            "        intended specifically for use with numeric values and may reject\n",
            "        non-numeric types.\n",
            "    \n",
            "    radians(x, /)\n",
            "        Convert angle x from degrees to radians.\n",
            "    \n",
            "    remainder(x, y, /)\n",
            "        Difference between x and the closest integer multiple of y.\n",
            "        \n",
            "        Return x - n*y where n*y is the closest integer multiple of y.\n",
            "        In the case where x is exactly halfway between two multiples of\n",
            "        y, the nearest even value of n is used. The result is always exact.\n",
            "    \n",
            "    sin(x, /)\n",
            "        Return the sine of x (measured in radians).\n",
            "    \n",
            "    sinh(x, /)\n",
            "        Return the hyperbolic sine of x.\n",
            "    \n",
            "    sqrt(x, /)\n",
            "        Return the square root of x.\n",
            "    \n",
            "    tan(x, /)\n",
            "        Return the tangent of x (measured in radians).\n",
            "    \n",
            "    tanh(x, /)\n",
            "        Return the hyperbolic tangent of x.\n",
            "    \n",
            "    trunc(x, /)\n",
            "        Truncates the Real x to the nearest Integral toward 0.\n",
            "        \n",
            "        Uses the __trunc__ magic method.\n",
            "    \n",
            "    ulp(x, /)\n",
            "        Return the value of the least significant bit of the float x.\n",
            "\n",
            "DATA\n",
            "    e = 2.718281828459045\n",
            "    inf = inf\n",
            "    nan = nan\n",
            "    pi = 3.141592653589793\n",
            "    tau = 6.283185307179586\n",
            "\n",
            "FILE\n",
            "    (built-in)\n",
            "\n",
            "\n"
          ]
        }
      ],
      "source": [
        "# Importing the libraries.\n",
        "import math as m\n",
        "help(m)"
      ]
    },
    {
      "cell_type": "code",
      "execution_count": null,
      "metadata": {
        "colab": {
          "base_uri": "https://localhost:8080/"
        },
        "id": "ps_Be_uscb-1",
        "outputId": "afa24df5-4083-45f3-9c38-8d31accb5357"
      },
      "outputs": [
        {
          "name": "stdout",
          "output_type": "stream",
          "text": [
            "8.0\n",
            "17.0\n",
            "251\n"
          ]
        },
        {
          "name": "stderr",
          "output_type": "stream",
          "text": [
            "<ipython-input-15-303ad06dce5e>:5: DeprecationWarning: non-integer arguments to randrange() have been deprecated since Python 3.10 and will be removed in a subsequent version\n",
            "  print(random.randrange(1.0, 500.0))\n"
          ]
        }
      ],
      "source": [
        "# Using the libraries\n",
        "import math, random\n",
        "print(math.pow(2, 3))\n",
        "print(math.sqrt(289))\n",
        "print(random.randrange(1.0, 500.0))"
      ]
    },
    {
      "cell_type": "markdown",
      "metadata": {
        "id": "8uKR4anWfd8j"
      },
      "source": [
        "### Multiline"
      ]
    },
    {
      "cell_type": "code",
      "execution_count": null,
      "metadata": {
        "colab": {
          "base_uri": "https://localhost:8080/"
        },
        "id": "U_Xj_zSqdJ2U",
        "outputId": "68792d79-c8ed-4748-adc2-0a5a57ed4cd7"
      },
      "outputs": [
        {
          "name": "stdout",
          "output_type": "stream",
          "text": [
            "Kem Cho <class 'str'>\n",
            "Hello! My name is kasodariya Deep.\n",
            "I go by the name of night_fury_17 <class 'str'>\n"
          ]
        }
      ],
      "source": [
        "a = 'Kem Cho'\n",
        "b = '''Hello! My name is Kasodariya Deep.\n",
        "      I go by the name of Night_Fury_17'''\n",
        "\n",
        "print(a, type(a))\n",
        "print(b, type(b))"
      ]
    },
    {
      "cell_type": "markdown",
      "metadata": {
        "id": "YoFw2Pq8fifD"
      },
      "source": [
        "### String Loop"
      ]
    },
    {
      "cell_type": "code",
      "execution_count": null,
      "metadata": {
        "colab": {
          "base_uri": "https://localhost:8080/"
        },
        "id": "vk8df0LSdnA0",
        "outputId": "9b918ed8-8ec1-44f0-e206-05acf6cea911"
      },
      "outputs": [
        {
          "name": "stdout",
          "output_type": "stream",
          "text": [
            "d\n",
            "Length of a: 11\n",
            "range(0, 11)\n",
            "0 1 2 3 4 5 6 7 8 9 10 \n",
            "Hello World\n",
            "Hello World\n"
          ]
        }
      ],
      "source": [
        "a = 'Hello World'\n",
        "b = a[10]\n",
        "print(b)\n",
        "\n",
        "# a[10] = 'H' -> TypeError: 'str' object does not support item assignment.\n",
        "print('Length of a:', len(a))\n",
        "print(range(0, len(a)))\n",
        "\n",
        "for i in range(0, len(a)):\n",
        "  print(i, end = ' ')\n",
        "print()\n",
        "\n",
        "# Using end = '' because by default it goes to the new line.\n",
        "for i in a:\n",
        "  print(i, end = '')\n",
        "print()\n",
        "\n",
        "for i in 'Hello World':\n",
        "  print(i, end = '')\n",
        "print()"
      ]
    },
    {
      "cell_type": "markdown",
      "metadata": {
        "id": "4WpRzD9MfmZi"
      },
      "source": [
        "### in Usage"
      ]
    },
    {
      "cell_type": "code",
      "execution_count": null,
      "metadata": {
        "colab": {
          "base_uri": "https://localhost:8080/"
        },
        "id": "LZcYCCiDfLil",
        "outputId": "3e16dab5-833c-43fd-c29a-7150a1108988"
      },
      "outputs": [
        {
          "name": "stdout",
          "output_type": "stream",
          "text": [
            "True\n",
            "False\n",
            "Present\n"
          ]
        }
      ],
      "source": [
        "a = 'I am Deep, currently doing DSA in Java'\n",
        "print('Deep' in a)\n",
        "print('j' in a)\n",
        "\n",
        "if('Deep' in a):\n",
        "  print(\"Present\")\n",
        "else:\n",
        "  print(\"Absent\")"
      ]
    },
    {
      "cell_type": "markdown",
      "metadata": {
        "id": "QWSq25q4fss5"
      },
      "source": [
        "### Slicing"
      ]
    },
    {
      "cell_type": "code",
      "execution_count": null,
      "metadata": {
        "colab": {
          "base_uri": "https://localhost:8080/"
        },
        "id": "ejBzP0FEfkxl",
        "outputId": "db9f5ef7-06e7-4fc8-b581-5a39fa9c96d2"
      },
      "outputs": [
        {
          "name": "stdout",
          "output_type": "stream",
          "text": [
            " C\n",
            "Kem C\n",
            "Kem C\n",
            "o! maja ma\n",
            "ho! m\n",
            "Kem Cho! m\n",
            "ja ma\n",
            "Kem Cho! maja ma\n",
            "KmC\n",
            "ja m\n",
            "\n",
            "jam !o\n"
          ]
        }
      ],
      "source": [
        "# Slicing of String\n",
        "# If we do not provide the starting point, it starts from zero.\n",
        "a = 'Kem Cho! maja ma'\n",
        "print(a[3:5])\n",
        "print(a[0:5])\n",
        "print(a[:5])\n",
        "print(a[6:])\n",
        "\n",
        "print(a[-11:-6])\n",
        "\n",
        "# Always 1 will be added as increment\n",
        "print(a[:-6:])\n",
        "print(a[-5:])\n",
        "print(a[:])\n",
        "\n",
        "# Specifying the direction and increment.\n",
        "# Make sure that if you specify both start and end, you provide proper direction in increment, otherwise print nothing.\n",
        "print(a[0:5:2])\n",
        "print(a[-5:-1:1])\n",
        "print(a[-1:-6:1])\n",
        "print(a[11:5:-1])"
      ]
    },
    {
      "cell_type": "markdown",
      "metadata": {
        "id": "XZF8wLkEf6vP"
      },
      "source": [
        "### Help"
      ]
    },
    {
      "cell_type": "code",
      "execution_count": null,
      "metadata": {
        "colab": {
          "base_uri": "https://localhost:8080/"
        },
        "id": "464vsZoLhEXD",
        "outputId": "2ca9d69e-1633-464c-e548-29a82202465b"
      },
      "outputs": [
        {
          "name": "stdout",
          "output_type": "stream",
          "text": [
            "Help on class str in module builtins:\n",
            "\n",
            "class str(object)\n",
            " |  str(object='') -> str\n",
            " |  str(bytes_or_buffer[, encoding[, errors]]) -> str\n",
            " |  \n",
            " |  Create a new string object from the given object. If encoding or\n",
            " |  errors is specified, then the object must expose a data buffer\n",
            " |  that will be decoded using the given encoding and error handler.\n",
            " |  Otherwise, returns the result of object.__str__() (if defined)\n",
            " |  or repr(object).\n",
            " |  encoding defaults to sys.getdefaultencoding().\n",
            " |  errors defaults to 'strict'.\n",
            " |  \n",
            " |  Methods defined here:\n",
            " |  \n",
            " |  __add__(self, value, /)\n",
            " |      Return self+value.\n",
            " |  \n",
            " |  __contains__(self, key, /)\n",
            " |      Return key in self.\n",
            " |  \n",
            " |  __eq__(self, value, /)\n",
            " |      Return self==value.\n",
            " |  \n",
            " |  __format__(self, format_spec, /)\n",
            " |      Return a formatted version of the string as described by format_spec.\n",
            " |  \n",
            " |  __ge__(self, value, /)\n",
            " |      Return self>=value.\n",
            " |  \n",
            " |  __getattribute__(self, name, /)\n",
            " |      Return getattr(self, name).\n",
            " |  \n",
            " |  __getitem__(self, key, /)\n",
            " |      Return self[key].\n",
            " |  \n",
            " |  __getnewargs__(...)\n",
            " |  \n",
            " |  __gt__(self, value, /)\n",
            " |      Return self>value.\n",
            " |  \n",
            " |  __hash__(self, /)\n",
            " |      Return hash(self).\n",
            " |  \n",
            " |  __iter__(self, /)\n",
            " |      Implement iter(self).\n",
            " |  \n",
            " |  __le__(self, value, /)\n",
            " |      Return self<=value.\n",
            " |  \n",
            " |  __len__(self, /)\n",
            " |      Return len(self).\n",
            " |  \n",
            " |  __lt__(self, value, /)\n",
            " |      Return self<value.\n",
            " |  \n",
            " |  __mod__(self, value, /)\n",
            " |      Return self%value.\n",
            " |  \n",
            " |  __mul__(self, value, /)\n",
            " |      Return self*value.\n",
            " |  \n",
            " |  __ne__(self, value, /)\n",
            " |      Return self!=value.\n",
            " |  \n",
            " |  __repr__(self, /)\n",
            " |      Return repr(self).\n",
            " |  \n",
            " |  __rmod__(self, value, /)\n",
            " |      Return value%self.\n",
            " |  \n",
            " |  __rmul__(self, value, /)\n",
            " |      Return value*self.\n",
            " |  \n",
            " |  __sizeof__(self, /)\n",
            " |      Return the size of the string in memory, in bytes.\n",
            " |  \n",
            " |  __str__(self, /)\n",
            " |      Return str(self).\n",
            " |  \n",
            " |  capitalize(self, /)\n",
            " |      Return a capitalized version of the string.\n",
            " |      \n",
            " |      More specifically, make the first character have upper case and the rest lower\n",
            " |      case.\n",
            " |  \n",
            " |  casefold(self, /)\n",
            " |      Return a version of the string suitable for caseless comparisons.\n",
            " |  \n",
            " |  center(self, width, fillchar=' ', /)\n",
            " |      Return a centered string of length width.\n",
            " |      \n",
            " |      Padding is done using the specified fill character (default is a space).\n",
            " |  \n",
            " |  count(...)\n",
            " |      S.count(sub[, start[, end]]) -> int\n",
            " |      \n",
            " |      Return the number of non-overlapping occurrences of substring sub in\n",
            " |      string S[start:end].  Optional arguments start and end are\n",
            " |      interpreted as in slice notation.\n",
            " |  \n",
            " |  encode(self, /, encoding='utf-8', errors='strict')\n",
            " |      Encode the string using the codec registered for encoding.\n",
            " |      \n",
            " |      encoding\n",
            " |        The encoding in which to encode the string.\n",
            " |      errors\n",
            " |        The error handling scheme to use for encoding errors.\n",
            " |        The default is 'strict' meaning that encoding errors raise a\n",
            " |        UnicodeEncodeError.  Other possible values are 'ignore', 'replace' and\n",
            " |        'xmlcharrefreplace' as well as any other name registered with\n",
            " |        codecs.register_error that can handle UnicodeEncodeErrors.\n",
            " |  \n",
            " |  endswith(...)\n",
            " |      S.endswith(suffix[, start[, end]]) -> bool\n",
            " |      \n",
            " |      Return True if S ends with the specified suffix, False otherwise.\n",
            " |      With optional start, test S beginning at that position.\n",
            " |      With optional end, stop comparing S at that position.\n",
            " |      suffix can also be a tuple of strings to try.\n",
            " |  \n",
            " |  expandtabs(self, /, tabsize=8)\n",
            " |      Return a copy where all tab characters are expanded using spaces.\n",
            " |      \n",
            " |      If tabsize is not given, a tab size of 8 characters is assumed.\n",
            " |  \n",
            " |  find(...)\n",
            " |      S.find(sub[, start[, end]]) -> int\n",
            " |      \n",
            " |      Return the lowest index in S where substring sub is found,\n",
            " |      such that sub is contained within S[start:end].  Optional\n",
            " |      arguments start and end are interpreted as in slice notation.\n",
            " |      \n",
            " |      Return -1 on failure.\n",
            " |  \n",
            " |  format(...)\n",
            " |      S.format(*args, **kwargs) -> str\n",
            " |      \n",
            " |      Return a formatted version of S, using substitutions from args and kwargs.\n",
            " |      The substitutions are identified by braces ('{' and '}').\n",
            " |  \n",
            " |  format_map(...)\n",
            " |      S.format_map(mapping) -> str\n",
            " |      \n",
            " |      Return a formatted version of S, using substitutions from mapping.\n",
            " |      The substitutions are identified by braces ('{' and '}').\n",
            " |  \n",
            " |  index(...)\n",
            " |      S.index(sub[, start[, end]]) -> int\n",
            " |      \n",
            " |      Return the lowest index in S where substring sub is found,\n",
            " |      such that sub is contained within S[start:end].  Optional\n",
            " |      arguments start and end are interpreted as in slice notation.\n",
            " |      \n",
            " |      Raises ValueError when the substring is not found.\n",
            " |  \n",
            " |  isalnum(self, /)\n",
            " |      Return True if the string is an alpha-numeric string, False otherwise.\n",
            " |      \n",
            " |      A string is alpha-numeric if all characters in the string are alpha-numeric and\n",
            " |      there is at least one character in the string.\n",
            " |  \n",
            " |  isalpha(self, /)\n",
            " |      Return True if the string is an alphabetic string, False otherwise.\n",
            " |      \n",
            " |      A string is alphabetic if all characters in the string are alphabetic and there\n",
            " |      is at least one character in the string.\n",
            " |  \n",
            " |  isascii(self, /)\n",
            " |      Return True if all characters in the string are ASCII, False otherwise.\n",
            " |      \n",
            " |      ASCII characters have code points in the range U+0000-U+007F.\n",
            " |      Empty string is ASCII too.\n",
            " |  \n",
            " |  isdecimal(self, /)\n",
            " |      Return True if the string is a decimal string, False otherwise.\n",
            " |      \n",
            " |      A string is a decimal string if all characters in the string are decimal and\n",
            " |      there is at least one character in the string.\n",
            " |  \n",
            " |  isdigit(self, /)\n",
            " |      Return True if the string is a digit string, False otherwise.\n",
            " |      \n",
            " |      A string is a digit string if all characters in the string are digits and there\n",
            " |      is at least one character in the string.\n",
            " |  \n",
            " |  isidentifier(self, /)\n",
            " |      Return True if the string is a valid Python identifier, False otherwise.\n",
            " |      \n",
            " |      Call keyword.iskeyword(s) to test whether string s is a reserved identifier,\n",
            " |      such as \"def\" or \"class\".\n",
            " |  \n",
            " |  islower(self, /)\n",
            " |      Return True if the string is a lowercase string, False otherwise.\n",
            " |      \n",
            " |      A string is lowercase if all cased characters in the string are lowercase and\n",
            " |      there is at least one cased character in the string.\n",
            " |  \n",
            " |  isnumeric(self, /)\n",
            " |      Return True if the string is a numeric string, False otherwise.\n",
            " |      \n",
            " |      A string is numeric if all characters in the string are numeric and there is at\n",
            " |      least one character in the string.\n",
            " |  \n",
            " |  isprintable(self, /)\n",
            " |      Return True if the string is printable, False otherwise.\n",
            " |      \n",
            " |      A string is printable if all of its characters are considered printable in\n",
            " |      repr() or if it is empty.\n",
            " |  \n",
            " |  isspace(self, /)\n",
            " |      Return True if the string is a whitespace string, False otherwise.\n",
            " |      \n",
            " |      A string is whitespace if all characters in the string are whitespace and there\n",
            " |      is at least one character in the string.\n",
            " |  \n",
            " |  istitle(self, /)\n",
            " |      Return True if the string is a title-cased string, False otherwise.\n",
            " |      \n",
            " |      In a title-cased string, upper- and title-case characters may only\n",
            " |      follow uncased characters and lowercase characters only cased ones.\n",
            " |  \n",
            " |  isupper(self, /)\n",
            " |      Return True if the string is an uppercase string, False otherwise.\n",
            " |      \n",
            " |      A string is uppercase if all cased characters in the string are uppercase and\n",
            " |      there is at least one cased character in the string.\n",
            " |  \n",
            " |  join(self, iterable, /)\n",
            " |      Concatenate any number of strings.\n",
            " |      \n",
            " |      The string whose method is called is inserted in between each given string.\n",
            " |      The result is returned as a new string.\n",
            " |      \n",
            " |      Example: '.'.join(['ab', 'pq', 'rs']) -> 'ab.pq.rs'\n",
            " |  \n",
            " |  ljust(self, width, fillchar=' ', /)\n",
            " |      Return a left-justified string of length width.\n",
            " |      \n",
            " |      Padding is done using the specified fill character (default is a space).\n",
            " |  \n",
            " |  lower(self, /)\n",
            " |      Return a copy of the string converted to lowercase.\n",
            " |  \n",
            " |  lstrip(self, chars=None, /)\n",
            " |      Return a copy of the string with leading whitespace removed.\n",
            " |      \n",
            " |      If chars is given and not None, remove characters in chars instead.\n",
            " |  \n",
            " |  partition(self, sep, /)\n",
            " |      Partition the string into three parts using the given separator.\n",
            " |      \n",
            " |      This will search for the separator in the string.  If the separator is found,\n",
            " |      returns a 3-tuple containing the part before the separator, the separator\n",
            " |      itself, and the part after it.\n",
            " |      \n",
            " |      If the separator is not found, returns a 3-tuple containing the original string\n",
            " |      and two empty strings.\n",
            " |  \n",
            " |  removeprefix(self, prefix, /)\n",
            " |      Return a str with the given prefix string removed if present.\n",
            " |      \n",
            " |      If the string starts with the prefix string, return string[len(prefix):].\n",
            " |      Otherwise, return a copy of the original string.\n",
            " |  \n",
            " |  removesuffix(self, suffix, /)\n",
            " |      Return a str with the given suffix string removed if present.\n",
            " |      \n",
            " |      If the string ends with the suffix string and that suffix is not empty,\n",
            " |      return string[:-len(suffix)]. Otherwise, return a copy of the original\n",
            " |      string.\n",
            " |  \n",
            " |  replace(self, old, new, count=-1, /)\n",
            " |      Return a copy with all occurrences of substring old replaced by new.\n",
            " |      \n",
            " |        count\n",
            " |          Maximum number of occurrences to replace.\n",
            " |          -1 (the default value) means replace all occurrences.\n",
            " |      \n",
            " |      If the optional argument count is given, only the first count occurrences are\n",
            " |      replaced.\n",
            " |  \n",
            " |  rfind(...)\n",
            " |      S.rfind(sub[, start[, end]]) -> int\n",
            " |      \n",
            " |      Return the highest index in S where substring sub is found,\n",
            " |      such that sub is contained within S[start:end].  Optional\n",
            " |      arguments start and end are interpreted as in slice notation.\n",
            " |      \n",
            " |      Return -1 on failure.\n",
            " |  \n",
            " |  rindex(...)\n",
            " |      S.rindex(sub[, start[, end]]) -> int\n",
            " |      \n",
            " |      Return the highest index in S where substring sub is found,\n",
            " |      such that sub is contained within S[start:end].  Optional\n",
            " |      arguments start and end are interpreted as in slice notation.\n",
            " |      \n",
            " |      Raises ValueError when the substring is not found.\n",
            " |  \n",
            " |  rjust(self, width, fillchar=' ', /)\n",
            " |      Return a right-justified string of length width.\n",
            " |      \n",
            " |      Padding is done using the specified fill character (default is a space).\n",
            " |  \n",
            " |  rpartition(self, sep, /)\n",
            " |      Partition the string into three parts using the given separator.\n",
            " |      \n",
            " |      This will search for the separator in the string, starting at the end. If\n",
            " |      the separator is found, returns a 3-tuple containing the part before the\n",
            " |      separator, the separator itself, and the part after it.\n",
            " |      \n",
            " |      If the separator is not found, returns a 3-tuple containing two empty strings\n",
            " |      and the original string.\n",
            " |  \n",
            " |  rsplit(self, /, sep=None, maxsplit=-1)\n",
            " |      Return a list of the substrings in the string, using sep as the separator string.\n",
            " |      \n",
            " |        sep\n",
            " |          The separator used to split the string.\n",
            " |      \n",
            " |          When set to None (the default value), will split on any whitespace\n",
            " |          character (including \\\\n \\\\r \\\\t \\\\f and spaces) and will discard\n",
            " |          empty strings from the result.\n",
            " |        maxsplit\n",
            " |          Maximum number of splits (starting from the left).\n",
            " |          -1 (the default value) means no limit.\n",
            " |      \n",
            " |      Splitting starts at the end of the string and works to the front.\n",
            " |  \n",
            " |  rstrip(self, chars=None, /)\n",
            " |      Return a copy of the string with trailing whitespace removed.\n",
            " |      \n",
            " |      If chars is given and not None, remove characters in chars instead.\n",
            " |  \n",
            " |  split(self, /, sep=None, maxsplit=-1)\n",
            " |      Return a list of the substrings in the string, using sep as the separator string.\n",
            " |      \n",
            " |        sep\n",
            " |          The separator used to split the string.\n",
            " |      \n",
            " |          When set to None (the default value), will split on any whitespace\n",
            " |          character (including \\\\n \\\\r \\\\t \\\\f and spaces) and will discard\n",
            " |          empty strings from the result.\n",
            " |        maxsplit\n",
            " |          Maximum number of splits (starting from the left).\n",
            " |          -1 (the default value) means no limit.\n",
            " |      \n",
            " |      Note, str.split() is mainly useful for data that has been intentionally\n",
            " |      delimited.  With natural text that includes punctuation, consider using\n",
            " |      the regular expression module.\n",
            " |  \n",
            " |  splitlines(self, /, keepends=False)\n",
            " |      Return a list of the lines in the string, breaking at line boundaries.\n",
            " |      \n",
            " |      Line breaks are not included in the resulting list unless keepends is given and\n",
            " |      true.\n",
            " |  \n",
            " |  startswith(...)\n",
            " |      S.startswith(prefix[, start[, end]]) -> bool\n",
            " |      \n",
            " |      Return True if S starts with the specified prefix, False otherwise.\n",
            " |      With optional start, test S beginning at that position.\n",
            " |      With optional end, stop comparing S at that position.\n",
            " |      prefix can also be a tuple of strings to try.\n",
            " |  \n",
            " |  strip(self, chars=None, /)\n",
            " |      Return a copy of the string with leading and trailing whitespace removed.\n",
            " |      \n",
            " |      If chars is given and not None, remove characters in chars instead.\n",
            " |  \n",
            " |  swapcase(self, /)\n",
            " |      Convert uppercase characters to lowercase and lowercase characters to uppercase.\n",
            " |  \n",
            " |  title(self, /)\n",
            " |      Return a version of the string where each word is titlecased.\n",
            " |      \n",
            " |      More specifically, words start with uppercased characters and all remaining\n",
            " |      cased characters have lower case.\n",
            " |  \n",
            " |  translate(self, table, /)\n",
            " |      Replace each character in the string using the given translation table.\n",
            " |      \n",
            " |        table\n",
            " |          Translation table, which must be a mapping of Unicode ordinals to\n",
            " |          Unicode ordinals, strings, or None.\n",
            " |      \n",
            " |      The table must implement lookup/indexing via __getitem__, for instance a\n",
            " |      dictionary or list.  If this operation raises LookupError, the character is\n",
            " |      left untouched.  Characters mapped to None are deleted.\n",
            " |  \n",
            " |  upper(self, /)\n",
            " |      Return a copy of the string converted to uppercase.\n",
            " |  \n",
            " |  zfill(self, width, /)\n",
            " |      Pad a numeric string with zeros on the left, to fill a field of the given width.\n",
            " |      \n",
            " |      The string is never truncated.\n",
            " |  \n",
            " |  ----------------------------------------------------------------------\n",
            " |  Static methods defined here:\n",
            " |  \n",
            " |  __new__(*args, **kwargs) from builtins.type\n",
            " |      Create and return a new object.  See help(type) for accurate signature.\n",
            " |  \n",
            " |  maketrans(...)\n",
            " |      Return a translation table usable for str.translate().\n",
            " |      \n",
            " |      If there is only one argument, it must be a dictionary mapping Unicode\n",
            " |      ordinals (integers) or characters to Unicode ordinals, strings or None.\n",
            " |      Character keys will be then converted to ordinals.\n",
            " |      If there are two arguments, they must be strings of equal length, and\n",
            " |      in the resulting dictionary, each character in x will be mapped to the\n",
            " |      character at the same position in y. If there is a third argument, it\n",
            " |      must be a string, whose characters will be mapped to None in the result.\n",
            "\n"
          ]
        }
      ],
      "source": [
        "help(str)"
      ]
    },
    {
      "cell_type": "markdown",
      "metadata": {
        "id": "fcCuXSClf9eA"
      },
      "source": [
        "### String Operations"
      ]
    },
    {
      "cell_type": "code",
      "execution_count": null,
      "metadata": {
        "colab": {
          "base_uri": "https://localhost:8080/"
        },
        "id": "wN5OnIkkhHBl",
        "outputId": "e1896443-7e32-470c-cf17-832715552ffd"
      },
      "outputs": [
        {
          "name": "stdout",
          "output_type": "stream",
          "text": [
            "HELLO WORLD\n",
            "Hello World\n",
            "hello world\n",
            "Hello World\n",
            "Night Fury 17\n",
            "['Night', 'Fury', 'is', 'deadly'] <class 'list'>\n",
            "['Night ', ' is deadly']\n",
            "['deep', 'hotmail.com']\n",
            "deep@hotmail.com\n"
          ]
        }
      ],
      "source": [
        "# Operations of String\n",
        "a = 'Hello World'\n",
        "print(a.upper())\n",
        "print(a)\n",
        "\n",
        "print(a.lower())\n",
        "print(a)\n",
        "\n",
        "a = '      Night Fury 17        '\n",
        "a = a.strip()\n",
        "print(a)\n",
        "\n",
        "# Output of spliting is a list\n",
        "# By default, it will split by a space.\n",
        "a = 'Night Fury is deadly'\n",
        "print(a.split(' '), type(a.split(' ')))\n",
        "print(a.split('Fury'))\n",
        "\n",
        "a = 'deep@hotmail.com'\n",
        "print(a.split('@'))\n",
        "print(a)"
      ]
    },
    {
      "cell_type": "markdown",
      "metadata": {
        "id": "C8_1kkxtgAdN"
      },
      "source": [
        "### Escape Sequence"
      ]
    },
    {
      "cell_type": "code",
      "execution_count": null,
      "metadata": {
        "colab": {
          "base_uri": "https://localhost:8080/"
        },
        "id": "_5B7fAhril8U",
        "outputId": "a1e8fb64-bf89-4eb9-ccc6-5cf7332adf17"
      },
      "outputs": [
        {
          "name": "stdout",
          "output_type": "stream",
          "text": [
            "It's time to fly.\n",
            "Night Fury \tFire <3\n",
            "Charizad, \rMy Lord\n",
            "e\n",
            "IJK\n"
          ]
        }
      ],
      "source": [
        "# Escape Characters\n",
        "# Ex:\n",
        "# \\t - Tab\n",
        "# \\b - Backspace\n",
        "# \\xhh - Hex Value\n",
        "# \\ooo - Octal Value\n",
        "# \\r - Carriage Return\n",
        "\n",
        "a = 'It\\'s time to fly.'\n",
        "print(a)\n",
        "\n",
        "a = \"Night Fury \\tFire <3\"\n",
        "print(a)\n",
        "\n",
        "a = \"Charizad, \\rMy Lord\"\n",
        "print(a)\n",
        "\n",
        "# So 65 gets converted to binary i.e 101. It will print e.\n",
        "a = '\\x65'\n",
        "print(a)\n",
        "\n",
        "# Octal -> Normal -> Ascii\n",
        "a = '\\111\\112\\113'\n",
        "print(a)"
      ]
    },
    {
      "cell_type": "markdown",
      "metadata": {
        "id": "b4ei-i5egD7o"
      },
      "source": [
        "### Aplha Numeric"
      ]
    },
    {
      "cell_type": "code",
      "execution_count": null,
      "metadata": {
        "colab": {
          "base_uri": "https://localhost:8080/"
        },
        "id": "aBMMTSHRkWol",
        "outputId": "fa9d34e7-26b9-4626-b44f-988dbf53de7a"
      },
      "outputs": [
        {
          "name": "stdout",
          "output_type": "stream",
          "text": [
            "2\n",
            "11\n",
            "False\n",
            "True\n",
            "False\n",
            "False\n",
            "True\n",
            "False\n",
            "True\n"
          ]
        }
      ],
      "source": [
        "a = 'My name is Night Fury, Night Fury'\n",
        "b = 'nightfury17'\n",
        "c = 'nightfury'\n",
        "d = '17'\n",
        "\n",
        "print(a.count('Night Fury'))\n",
        "print(a.index('Night Fury'))\n",
        "print(a.isalnum())\n",
        "\n",
        "# _ and space are not considered as alphanumeric.\n",
        "print(b.isalnum())\n",
        "\n",
        "# alpha is a subset of alnum.\n",
        "print(a.isalpha())\n",
        "print(b.isalpha())\n",
        "print(c.isalpha())\n",
        "\n",
        "print(a.isdigit())\n",
        "print(d.isdigit())"
      ]
    },
    {
      "cell_type": "code",
      "execution_count": null,
      "metadata": {
        "colab": {
          "base_uri": "https://localhost:8080/"
        },
        "id": "SbOCQ0RspLwp",
        "outputId": "76d4653e-88d2-4c68-ebb7-9e72494ef1b2"
      },
      "outputs": [
        {
          "name": "stdout",
          "output_type": "stream",
          "text": [
            "['night', 'fury', '17']\n",
            "night_fury_17\n",
            "Hi              Night Fury How are you?\n",
            "Hi Night Fury              How are you?\n",
            "['I am Night Fury.', 'My girl friend is Light Fury']\n",
            "['I am Night Fury.', 'My girl friend is Light Fury']\n",
            "True\n",
            "False\n",
            "5\n",
            "5\n",
            "('I am Night ', 'Fury', '.\\nMy girl friend is Light Fury')\n",
            "I am Light Fury.\n",
            "My girl friend is Light Fury\n",
            "I am Night Fury.\n",
            "My girl friend is Light Fury\n"
          ]
        }
      ],
      "source": [
        "a = 'night$fury$17'\n",
        "b = a.split('$')\n",
        "print(b)\n",
        "\n",
        "# c = b.join('$') - It will give error\n",
        "c = '_'.join(b)\n",
        "print(c)\n",
        "\n",
        "# In print after , there is a space by default.\n",
        "a = '            Night Fury             '\n",
        "print(\"Hi\", a.rstrip(), \"How are you?\")\n",
        "print(\"Hi\", a.lstrip(), \"How are you?\")\n",
        "\n",
        "a = 'I am Night Fury.\\nMy girl friend is Light Fury'\n",
        "print(a.splitlines())\n",
        "print(a.split('\\n'))\n",
        "\n",
        "print(a.startswith('I'))\n",
        "print(a.endswith('.'))\n",
        "\n",
        "# Find will not give an error and return -1. However index will give error.\n",
        "print(a.find('Night'))\n",
        "print(a.index('Night'))\n",
        "\n",
        "# Fury is included unlike split. It returns a tuple of size 3.\n",
        "print(a.partition('Fury'))\n",
        "print(a.replace('Night', 'Light'))\n",
        "print(a)"
      ]
    },
    {
      "cell_type": "markdown",
      "metadata": {
        "id": "T-gSCtEmgMtw"
      },
      "source": [
        "### Boolean"
      ]
    },
    {
      "cell_type": "code",
      "execution_count": null,
      "metadata": {
        "colab": {
          "base_uri": "https://localhost:8080/"
        },
        "id": "M0Inr6HRqP9E",
        "outputId": "bfc6421b-290f-4b95-d8fc-d6c11f219ced"
      },
      "outputs": [
        {
          "name": "stdout",
          "output_type": "stream",
          "text": [
            "False\n",
            "True\n",
            "True\n",
            "True\n",
            "True\n",
            "False\n",
            "False\n",
            "False\n",
            "True\n",
            "False\n",
            "True\n",
            "False\n",
            "False\n",
            "False\n"
          ]
        }
      ],
      "source": [
        "# Boolean\n",
        "print(10 < 5)\n",
        "print(10 > 5)\n",
        "print(10 == 10)\n",
        "\n",
        "print(bool(10)) # Evaluate the value\n",
        "print(bool('Hello'))\n",
        "\n",
        "print(bool(()))\n",
        "print(bool([]))\n",
        "print(bool({}))\n",
        "\n",
        "print(bool(\"Hello\"))\n",
        "print(bool(0))\n",
        "print(bool(-1))\n",
        "\n",
        "# False Values only if empty, 0, None\n",
        "print(bool(\"\"))\n",
        "print(bool(None))\n",
        "\n",
        "# Checks if the datatype is of that type specified.\n",
        "a = 1.0\n",
        "print(isinstance(a, int))"
      ]
    },
    {
      "cell_type": "markdown",
      "metadata": {
        "id": "a8FXaPgTgOqv"
      },
      "source": [
        "### Operators"
      ]
    },
    {
      "cell_type": "code",
      "execution_count": null,
      "metadata": {
        "colab": {
          "base_uri": "https://localhost:8080/"
        },
        "id": "DgqzgAClw0XV",
        "outputId": "93f3f1ae-a46a-4061-f196-071ca6d55057"
      },
      "outputs": [
        {
          "name": "stdout",
          "output_type": "stream",
          "text": [
            "7\n",
            "13\n",
            "13.0\n",
            "13.0\n",
            "30\n",
            "30.0\n",
            "2.5\n",
            "2.0\n",
            "2\n",
            "-3\n",
            "5\n",
            "19\n",
            "8\n",
            "0.6666666666666666\n",
            "1.6666666666666667\n",
            "194.22222222222223\n"
          ]
        }
      ],
      "source": [
        "# Python Operators\n",
        "\n",
        "# Int\n",
        "print(10 - 3)\n",
        "print(10 + 3)\n",
        "print(10 + 3.0)\n",
        "\n",
        "# Float\n",
        "print(10 + 3.)\n",
        "print(10 * 3)\n",
        "print(10 * 3.0)\n",
        "print(5 / 2)\n",
        "print(4 / 2)\n",
        "\n",
        "# Floor Division\n",
        "print(53 // 24)\n",
        "print(-53 // 24)\n",
        "\n",
        "# Modulo\n",
        "print(53 % 24)\n",
        "print(-53 % 24) # Positive modulo of 19.\n",
        "\n",
        "# Exponential\n",
        "print(2 ** 3)\n",
        "\n",
        "# Recurring\n",
        "print(2 / 3)\n",
        "print(5 / 3)\n",
        "\n",
        "# Operator Precedence - Left to Right\n",
        "# **, -- , / * // %, +-\n",
        "print(212 - 32 * 5 / 9)"
      ]
    },
    {
      "cell_type": "markdown",
      "metadata": {
        "id": "fSknrQMAgQ_L"
      },
      "source": [
        "### Assignment"
      ]
    },
    {
      "cell_type": "code",
      "execution_count": null,
      "metadata": {
        "colab": {
          "base_uri": "https://localhost:8080/"
        },
        "id": "UA1gX6TpzK6l",
        "outputId": "d3eb40d1-89c5-4fae-8954-42668bea7a7b"
      },
      "outputs": [
        {
          "name": "stdout",
          "output_type": "stream",
          "text": [
            "10\n",
            "15\n",
            "5\n",
            "50\n",
            "2.0\n",
            "2\n",
            "0\n",
            "100000\n",
            "14\n",
            "15\n",
            "0\n",
            "15\n",
            "2\n",
            "32\n"
          ]
        }
      ],
      "source": [
        "# Assignment Operators\n",
        "a = 10\n",
        "print(a)\n",
        "\n",
        "a = 10\n",
        "a += 5\n",
        "print(a)\n",
        "\n",
        "a = 10\n",
        "a -= 5\n",
        "print(a)\n",
        "\n",
        "a = 10\n",
        "a *= 5\n",
        "print(a)\n",
        "\n",
        "a = 10\n",
        "a /= 5\n",
        "print(a)\n",
        "\n",
        "a = 10\n",
        "a //= 5\n",
        "print(a)\n",
        "\n",
        "a = 10\n",
        "a %= 5\n",
        "print(a)\n",
        "\n",
        "a = 10\n",
        "a **= 5\n",
        "print(a)\n",
        "\n",
        "a = 2\n",
        "a *= 3 + 4\n",
        "print(a) # 14\n",
        "\n",
        "a = 10\n",
        "a ^= 5\n",
        "print(a)\n",
        "\n",
        "a = 10\n",
        "a &= 5\n",
        "print(a)\n",
        "\n",
        "a = 10\n",
        "a |= 5\n",
        "print(a)\n",
        "\n",
        "a = 8\n",
        "a >>= 2\n",
        "print(a)\n",
        "\n",
        "a = 8\n",
        "a <<= 2\n",
        "print(a)"
      ]
    },
    {
      "cell_type": "markdown",
      "metadata": {
        "id": "vAUIpauNgUKp"
      },
      "source": [
        "### Comparison"
      ]
    },
    {
      "cell_type": "code",
      "execution_count": null,
      "metadata": {
        "colab": {
          "base_uri": "https://localhost:8080/"
        },
        "id": "3w-AvVgT1NxW",
        "outputId": "3d8705b2-c2c5-4464-bfaa-77797d70b8f8"
      },
      "outputs": [
        {
          "name": "stdout",
          "output_type": "stream",
          "text": [
            "True\n",
            "False\n",
            "False\n",
            "False\n",
            "True\n",
            "True\n",
            "False\n",
            "True\n",
            "True\n"
          ]
        }
      ],
      "source": [
        "# Comparison\n",
        "a = 1\n",
        "b = 1\n",
        "print(a == b)\n",
        "print(a != b)\n",
        "\n",
        "print(a < b)\n",
        "print(a > b)\n",
        "\n",
        "print(a <= b)\n",
        "print(a >= b)\n",
        "\n",
        "print(a <= 1 and b >= 10)\n",
        "print(a <= 1 or b >= 10)\n",
        "print(not(a <= 1 and b >= 10))"
      ]
    },
    {
      "cell_type": "markdown",
      "metadata": {
        "id": "WvmxaZeYgW4J"
      },
      "source": [
        "### List"
      ]
    },
    {
      "cell_type": "code",
      "execution_count": null,
      "metadata": {
        "colab": {
          "base_uri": "https://localhost:8080/"
        },
        "id": "6souFUHG13Oh",
        "outputId": "36e63814-3e7b-43b2-9475-dd7342434ccf"
      },
      "outputs": [
        {
          "name": "stdout",
          "output_type": "stream",
          "text": [
            "<class 'list'>\n",
            "[1, 2, 3] [1, 2, 3]\n",
            "[1, 2, 3] [1, 2, 3] [1, 2, 3]\n",
            "1\n",
            "[100, 2, 3] [100, 2, 3] [100, 2, 3]\n",
            "133140785942080 133140786309696\n",
            "[1, 2, 3] [100, 2, 3]\n",
            "1\n",
            "3 1\n",
            "[] <class 'list'>\n",
            "[1, '1', True, 100.0]\n",
            "[1, 2, 3] <class 'list'>\n",
            "[100, 20, 30, 40, 50]\n",
            "[30, 40]\n",
            "False\n",
            "5\n",
            "100\n",
            "20\n",
            "240\n",
            "[20, 30, 40, 50, 100]\n",
            "[100, 20, 30, 40, 50]\n",
            "[1, 2, 3, 'Z']\n",
            "['Z', 1, 2, 3]\n",
            "[1, 2, 3, 1, 2, 3]\n"
          ]
        }
      ],
      "source": [
        "# List - V.IMP\n",
        "# Ordered, Change the Elements, Duplicates Allowed, Heterogenous.\n",
        "a = [1, 2, 3]\n",
        "print(type(a))\n",
        "\n",
        "b = a\n",
        "print(a, b)\n",
        "\n",
        "c = b\n",
        "print(a, b, c)\n",
        "\n",
        "# Every list will change because all points to the same member. -> MAJOR BUG\n",
        "print(c[0])\n",
        "c[0] = 100\n",
        "print(a, b, c)\n",
        "\n",
        "# Method to solve above issue.\n",
        "a = [1, 2, 3]\n",
        "b = tuple(a)\n",
        "b = list(b)\n",
        "print(id(a), id(b))\n",
        "\n",
        "# It will not change the value in a.\n",
        "b[0] = 100\n",
        "print(a, b)\n",
        "\n",
        "a = [1, 2, 3]\n",
        "print(a[0])\n",
        "print(a[-1], a[-3])\n",
        "\n",
        "# Empty List\n",
        "a = []\n",
        "print(a, type(a))\n",
        "\n",
        "a = [1, 2, 3]\n",
        "b = ['1', '2', '3']\n",
        "c = [True, False, True]\n",
        "d = [1.2, 2.2, 3.2]\n",
        "e = [1, '1', True, 100.0]\n",
        "print(e)\n",
        "\n",
        "# Constructor\n",
        "a = list((1, 2, 3))\n",
        "print(a, type(a))\n",
        "\n",
        "a = [100, 20, 30, 40, 50]\n",
        "# a = ['A', 'B', 'C']\n",
        "\n",
        "# Operations on list.\n",
        "print(a[:])\n",
        "print(a[2:4])\n",
        "print(10 in a)\n",
        "print(len(a))\n",
        "print(max(a))\n",
        "print(min(a))\n",
        "print(sum(a))\n",
        "print(sorted(a))\n",
        "print(a)\n",
        "\n",
        "a = [1, 2, 3]\n",
        "b = ['Z']\n",
        "c = 'Y'\n",
        "print(a + b) # It will append to a, temporarily. In short it will be a single list.\n",
        "print(b + a) # It will append to b, temporarily.\n",
        "\n",
        "print(a * 2) # Print a twice"
      ]
    },
    {
      "cell_type": "code",
      "execution_count": null,
      "metadata": {
        "colab": {
          "base_uri": "https://localhost:8080/"
        },
        "id": "Zf-ZWP3rcbAM",
        "outputId": "2ffdacbc-41b7-4d0b-eaff-0a4f10b9802b"
      },
      "outputs": [
        {
          "name": "stdout",
          "output_type": "stream",
          "text": [
            "['A', 1, 2, 3, 4]\n",
            "5\n",
            "['A', 1, 2, 3, 4, 'Z']\n",
            "['A', 1, 100.1, 2, 3, 4, 'Z']\n",
            "7\n",
            "[2, 3, 4]\n",
            "[1, 2, 3, 4, 5]\n",
            "[1, 2, 3, 4, 'x', 'y', 'z', 'w'] ['x', 'y', 'z', 'w']\n",
            "[1, 2, 3, 4, ['x', 'y', 'z', 'w']] ['x', 'y', 'z', 'w']\n",
            "['y', 'z', 'w']\n",
            "['x', 'y', 'w']\n",
            "['x', 'y', 'z']\n",
            "[]\n",
            "2\n",
            "0\n",
            "0\n",
            "0\n",
            "4\n",
            "2\n",
            "4\n",
            "[10, 10, 20, 30, 40]\n",
            "[40, 30, 20, 10, 10]\n",
            "[10, 10, 20, 30, 40]\n"
          ]
        }
      ],
      "source": [
        "a = [1, 2, 3, 4]\n",
        "a.insert(0, 'A')\n",
        "print(a)\n",
        "print(len(a))\n",
        "\n",
        "# Inserts at last available index.\n",
        "a.insert(10, 'Z')\n",
        "print(a)\n",
        "\n",
        "a.insert(2, 100.10)\n",
        "print(a)\n",
        "print(len(a))\n",
        "\n",
        "# We can assign within available index.\n",
        "# a[7] = 'Fury'\n",
        "# print(a)\n",
        "\n",
        "a = [1, 2, 3, 4]\n",
        "del a[0]\n",
        "print(a)\n",
        "\n",
        "a = [1, 2, 3, 4]\n",
        "a.append(5)\n",
        "print(a)\n",
        "\n",
        "# Extends inserts the elements individually.\n",
        "a = [1, 2, 3, 4]\n",
        "b = ['x', 'y', 'z', 'w']\n",
        "a.extend(b)\n",
        "print(a, b)\n",
        "\n",
        "# Append inserts the list as a whole.\n",
        "a = [1, 2, 3, 4]\n",
        "b = ['x', 'y', 'z', 'w']\n",
        "a.append(b)\n",
        "print(a, b)\n",
        "\n",
        "# Remove gives error if element is not there.\n",
        "b = ['x', 'y', 'z', 'w']\n",
        "b.remove('x')\n",
        "print(b)\n",
        "\n",
        "b = ['x', 'y', 'z', 'w']\n",
        "b.pop(2)\n",
        "print(b)\n",
        "\n",
        "b = ['x', 'y', 'z', 'w']\n",
        "b.pop()\n",
        "print(b)\n",
        "\n",
        "b = ['x', 'y', 'z', 'w']\n",
        "b.clear()\n",
        "print(b)\n",
        "\n",
        "b = ['x', 'y', 'z', 'w']\n",
        "del b\n",
        "\n",
        "b = ['z', 'y', 'x', 'w', 'z']\n",
        "a = [10, 20, 30, 40, 10]\n",
        "print(b.count('z'))\n",
        "print(b.count('a'))\n",
        "print(b.count('b'))\n",
        "\n",
        "#  It gives error if it is not present int the list.\n",
        "print(b.index('z'))\n",
        "print(b.index('z', 1))\n",
        "print(b.index('x', 1, 3))\n",
        "print(a.index(10, 1))\n",
        "\n",
        "a.sort()\n",
        "print(a)\n",
        "a.sort(reverse = True)\n",
        "print(a)\n",
        "a.reverse()\n",
        "print(a)"
      ]
    },
    {
      "cell_type": "markdown",
      "metadata": {
        "id": "C9Wnffvmgcql"
      },
      "source": [
        "### Loops"
      ]
    },
    {
      "cell_type": "code",
      "execution_count": null,
      "metadata": {
        "colab": {
          "base_uri": "https://localhost:8080/"
        },
        "id": "UKPExsvYcysr",
        "outputId": "e6acdbe8-6d73-4466-b50c-1cb85cc10f2e"
      },
      "outputs": [
        {
          "name": "stdout",
          "output_type": "stream",
          "text": [
            "10 20 30 40 50 \n",
            "10 20 30 40 50 \n",
            "10 20 30 40 50 \n",
            "10 20 30 40 50 \n",
            "[0, 1, 2, 3, 4]\n",
            "[0, 1]\n",
            "[]\n",
            "[1, 2, 3, 4]\n",
            "[5, 6, 7, 8, 9]\n",
            "[500, 505, 510, 515, 520]\n",
            "[]\n",
            "[525, 520, 515, 510, 505]\n",
            "[]\n",
            "[32, 43, 54]\n",
            "[[10, 21, 32, 43, 54], [10, 21, 32, 43, 54], [10, 21, 32, 43, 54]]\n",
            "[32, 43, 54]\n"
          ]
        }
      ],
      "source": [
        "# Loops\n",
        "a = [10, 20, 30, 40, 50]\n",
        "for i in a:\n",
        "  print(i, end = ' ')\n",
        "print()\n",
        "\n",
        "for i in range(len(a)):\n",
        "  print(a[i], end = ' ')\n",
        "print()\n",
        "\n",
        "for i in [0, 1, 2, 3, 4]:\n",
        "  print(a[i], end = ' ')\n",
        "print()\n",
        "\n",
        "i = 0\n",
        "while(i < len(a)):\n",
        "  print(a[i], end = ' ')\n",
        "  i += 1\n",
        "print()\n",
        "\n",
        "# For variable in list\n",
        "# Loop block\n",
        "\n",
        "print(list(range(5)))\n",
        "print(list(range(2)))\n",
        "print(list(range(0)))\n",
        "print(list(range(1, 5)))\n",
        "print(list(range(5, 10)))\n",
        "\n",
        "print(list(range(500, 525, 5)))\n",
        "print(list(range(500, 525, -5)))\n",
        "print(list(range(525, 500, -5)))\n",
        "print(list(range(525, 500, 5)))\n",
        "\n",
        "a = [10, 21, 32, 43, 54]\n",
        "x = [i for i in a if i > 25] # Comprehension\n",
        "print(x)\n",
        "\n",
        "# a will be added to x as a whole list number of times i > 25\n",
        "a = [10, 21, 32, 43, 54]\n",
        "x = [a for i in a if i > 25] # Comprehension\n",
        "print(x)\n",
        "\n",
        "x = []\n",
        "for i in a:\n",
        "  if i > 25:\n",
        "      x.append(i)\n",
        "print(x)"
      ]
    },
    {
      "cell_type": "markdown",
      "metadata": {
        "id": "l6q-aXM6pRtm"
      },
      "source": [
        "### List of Lists"
      ]
    },
    {
      "cell_type": "code",
      "execution_count": null,
      "metadata": {
        "colab": {
          "base_uri": "https://localhost:8080/"
        },
        "id": "uZvDvKlWc6HQ",
        "outputId": "464c3749-327c-4d6d-cdd9-00a45351473b"
      },
      "outputs": [
        {
          "name": "stdout",
          "output_type": "stream",
          "text": [
            "[1, 2, 3, ['a', 'b', 'c'], 17.04, 'Night_Fury', [10, 20, 30], (1, 2, 3)]\n",
            "['a', 'b', 'c']\n",
            "Night_Fury\n",
            "[10, 20, 30]\n",
            "20\n",
            "(1, 2, 3) <class 'list'> <class 'tuple'>\n",
            "c\n"
          ]
        }
      ],
      "source": [
        "a = [1, 2, 3, ['a', 'b', 'c'], 17.04, 'Night_Fury', [10, 20, 30], (1, 2, 3)]\n",
        "print(a)\n",
        "print(a[3])\n",
        "print(a[5])\n",
        "print(a[6])\n",
        "print(a[6][1])\n",
        "print(a[7], type(a), type(a[7]))\n",
        "print(a[3][2])"
      ]
    },
    {
      "cell_type": "markdown",
      "metadata": {
        "id": "8QGow5-Mgfmo"
      },
      "source": [
        "### Functions"
      ]
    },
    {
      "cell_type": "code",
      "execution_count": null,
      "metadata": {
        "colab": {
          "base_uri": "https://localhost:8080/"
        },
        "id": "u6sfkry8dGpQ",
        "outputId": "2a4848a2-618c-4375-dcff-718552281fc8"
      },
      "outputs": [
        {
          "name": "stdout",
          "output_type": "stream",
          "text": [
            "Enter 1st No: 2\n",
            "Enter 2nd No: 3\n",
            "5\n"
          ]
        }
      ],
      "source": [
        "# Functions:\n",
        "def addition(a, b):\n",
        "  print(a + b)\n",
        "\n",
        "x = int(input(\"Enter 1st No: \"))\n",
        "y = int(input(\"Enter 2nd No: \"))\n",
        "\n",
        "addition(x, y)"
      ]
    },
    {
      "cell_type": "code",
      "execution_count": null,
      "metadata": {
        "colab": {
          "base_uri": "https://localhost:8080/"
        },
        "id": "uZe-UfQfdTHg",
        "outputId": "b2207457-7825-47e6-c612-665215ebd11a"
      },
      "outputs": [
        {
          "name": "stdout",
          "output_type": "stream",
          "text": [
            "Enter 1st No: 5\n",
            "Enter 2nd No: 6\n",
            "11\n"
          ]
        }
      ],
      "source": [
        "def addition(a, b):\n",
        "  return a + b\n",
        "\n",
        "x = int(input(\"Enter 1st No: \"))\n",
        "y = int(input(\"Enter 2nd No: \"))\n",
        "\n",
        "ans = addition(x, y)\n",
        "print(ans)"
      ]
    },
    {
      "cell_type": "markdown",
      "metadata": {
        "id": "tKR6Sx74gpjC"
      },
      "source": [
        "### Input"
      ]
    },
    {
      "cell_type": "code",
      "execution_count": null,
      "metadata": {
        "colab": {
          "base_uri": "https://localhost:8080/"
        },
        "id": "p7MALbzoeHuV",
        "outputId": "4ae33d66-25ad-4a0c-8517-d2bc07532f76"
      },
      "outputs": [
        {
          "name": "stdout",
          "output_type": "stream",
          "text": [
            "Deep\n",
            "Deep <class 'str'>\n",
            "4\n",
            "4 <class 'int'>\n",
            "Enter Integer Number only: 5\n",
            "5 <class 'int'>\n"
          ]
        }
      ],
      "source": [
        "a = input()\n",
        "print(a, type(a))\n",
        "\n",
        "a = int(input())\n",
        "print(a, type(a))\n",
        "\n",
        "a = int(input(\"Enter Integer Number only: \"))\n",
        "print(a, type(a))"
      ]
    },
    {
      "cell_type": "markdown",
      "metadata": {
        "id": "rRk44aF_gjEM"
      },
      "source": [
        "### Miscellaneous"
      ]
    },
    {
      "cell_type": "code",
      "execution_count": null,
      "metadata": {
        "colab": {
          "base_uri": "https://localhost:8080/"
        },
        "id": "FrpFzYZydYIo",
        "outputId": "055edc99-5658-49a9-c10d-70e2ad0348f5"
      },
      "outputs": [
        {
          "name": "stdout",
          "output_type": "stream",
          "text": [
            "N\n",
            "['N', 'i', 'g', 'h', 't', '_', 'F', 'u', 'r', 'y'] ['N', 'i', 'g', 'h', 't', '_', 'F', 'u', 'r', 'y']\n",
            "[\n",
            "<class 'str'>\n",
            "Night_Fury\n"
          ]
        }
      ],
      "source": [
        "a = 'Night_Fury'\n",
        "print(a[0])\n",
        "\n",
        "b = list(a)\n",
        "c = str(b)\n",
        "\n",
        "print(b, c)\n",
        "print(c[0])\n",
        "print(type(c))\n",
        "\n",
        "print(''.join(b))"
      ]
    },
    {
      "cell_type": "markdown",
      "metadata": {
        "id": "A2QKdHpupsnP"
      },
      "source": [
        "### Tuple"
      ]
    },
    {
      "cell_type": "code",
      "execution_count": null,
      "metadata": {
        "colab": {
          "base_uri": "https://localhost:8080/"
        },
        "id": "PNDt-gTMpv_Q",
        "outputId": "a9bd81e1-7f35-455f-d70e-778f482792cc"
      },
      "outputs": [
        {
          "name": "stdout",
          "output_type": "stream",
          "text": [
            "<class 'list'> <class 'tuple'>\n",
            "1 1\n",
            "(1, 2, 3) 3\n",
            "[1] <class 'list'>\n",
            "1 <class 'int'>\n",
            "(1,) <class 'tuple'>\n",
            "(1, 2, 3, 4) <class 'tuple'>\n",
            "(True, False, True, True) <class 'tuple'>\n",
            "(1, 2, 0, True, 'x', [10, 20, 30], (100, 200, 300)) <class 'tuple'>\n",
            "(1, 2, 3, 4, 5, 6) <class 'tuple'>\n",
            "1 6\n",
            "(3, 4) (3, 4, 5)\n",
            "True\n",
            "False\n",
            "[1, 2, 3, 4, 5, 6, 1000]\n",
            "(1, 2, 3, 4, 5, 10) (10,)\n",
            "(1, 2, 3, 4, 5, 1, 2, 3, 4, 5)\n",
            "10 20 30 40 50 \n",
            "10 20 30 40 50 "
          ]
        }
      ],
      "source": [
        "# Tuple - Immutable\n",
        "\n",
        "x = [1, 2, 3]\n",
        "y = (1, 2, 3)\n",
        "print(type(x), type(y))\n",
        "print(x[0], y[0])\n",
        "print(y, len(y))\n",
        "\n",
        "# This is a list of one element.\n",
        "a = [1]\n",
        "print(a, type(a))\n",
        "\n",
        "# This a belongs to class int.\n",
        "a = (1)\n",
        "print(a, type(a))\n",
        "\n",
        "# To make a tuple of 1 element, put ','.\n",
        "b = (1,)\n",
        "print(b, type(b))\n",
        "\n",
        "# Integer Tuple\n",
        "a = (1, 2, 3, 4)\n",
        "print(a, type(a))\n",
        "\n",
        "# Boolean Tuple\n",
        "a = (True, False, True, True)\n",
        "print(a, type(a))\n",
        "\n",
        "# Mixed Tuple\n",
        "a = (1, 2, 0, True, \"x\", [10, 20, 30], (100, 200, 300))\n",
        "print(a, type(a))\n",
        "\n",
        "# Calling Constructor.\n",
        "a = tuple((1, 2, 3, 4, 5, 6))\n",
        "print(a, type(a))\n",
        "\n",
        "# Accessing Tuple Elements.\n",
        "print(a[0], a[-1])\n",
        "print(a[2:4], a[-4:-1])\n",
        "print(5 in a)\n",
        "print(100 in a)\n",
        "\n",
        "# Converting to List.\n",
        "a = tuple((1, 2, 3, 4, 5, 6))\n",
        "b = list(a)\n",
        "b.append(1000)\n",
        "print(b)\n",
        "\n",
        "# Two append an whole tuple as an item, convert to list first.\n",
        "a = (1, 2, 3, 4, 5)\n",
        "b = (10,)\n",
        "a += b # This is extending a with elements of b.\n",
        "print(a, b)\n",
        "\n",
        "a=(1, 2, 3, 4, 5)\n",
        "print(a * 2)\n",
        "\n",
        "# del a[0]\n",
        "del b\n",
        "\n",
        "# Iterating over Tuple.\n",
        "a = (10, 20, 30, 40, 50)\n",
        "for i in a:\n",
        "  print(i, end = ' ')\n",
        "print()\n",
        "\n",
        "for i in range(len(a)):\n",
        "  print(a[i], end = ' ')"
      ]
    },
    {
      "cell_type": "markdown",
      "metadata": {
        "id": "LqeY9lREsGdD"
      },
      "source": [
        "### Un-Packing"
      ]
    },
    {
      "cell_type": "code",
      "execution_count": null,
      "metadata": {
        "colab": {
          "base_uri": "https://localhost:8080/"
        },
        "id": "faOrq2ahsG5W",
        "outputId": "96802a5c-6d74-408d-82f6-27db14f93cfa"
      },
      "outputs": [
        {
          "name": "stdout",
          "output_type": "stream",
          "text": [
            "[10, 20] 10 20 <class 'list'> <class 'int'> <class 'int'>\n",
            "(10, 20) 10 20 <class 'tuple'> <class 'int'> <class 'int'>\n",
            "(10, 20) 10 20 <class 'tuple'> <class 'int'> <class 'int'>\n",
            "(10, 20, 30, 40, 50) 10 20 [30, 40, 50] <class 'tuple'> <class 'int'> <class 'int'> <class 'list'>\n",
            "[10, 20, 30, 40, 50]\n"
          ]
        }
      ],
      "source": [
        "# Method: 1\n",
        "a = [10, 20]\n",
        "x, y = a\n",
        "print(a, x, y, type(a), type(x), type(y))\n",
        "\n",
        "a =  (10, 20)\n",
        "x, y = a\n",
        "print(a, x, y, type(a), type(x), type(y))\n",
        "\n",
        "# Method: 2\n",
        "a = (10, 20)\n",
        "(x, y) = a\n",
        "print(a, x, y, type(a), type(x), type(y))\n",
        "\n",
        "# z will be of type list and the remaining elements will be in z.\n",
        "a = (10, 20, 30, 40, 50)\n",
        "(x, y, *z) = a\n",
        "print(a, x, y, z, type(a), type(x), type(y), type(z))\n",
        "\n",
        "# Without , it will give cannot use starred expression error.\n",
        "# , is mandatory with brackets.\n",
        "(*x,) = a\n",
        "print(x)"
      ]
    },
    {
      "cell_type": "markdown",
      "metadata": {
        "id": "ihiDRctIxGme"
      },
      "source": [
        "### Sets"
      ]
    },
    {
      "cell_type": "code",
      "execution_count": null,
      "metadata": {
        "colab": {
          "base_uri": "https://localhost:8080/"
        },
        "id": "LceM_ZOkxHQK",
        "outputId": "7bf2c87d-e483-4011-bf58-a059164254f7"
      },
      "outputs": [
        {
          "name": "stdout",
          "output_type": "stream",
          "text": [
            "{1, 2, 3} <class 'set'>\n",
            "{1, 2, 3} <class 'set'>\n",
            "{False, True} <class 'set'>\n",
            "{False, True, 2.0, ('l', 'm', 'n'), 1000, 10, 'Fury', 'x'} <class 'set'> 8\n",
            "{1, 2, 3, 4, 5} <class 'set'> 5\n",
            "True\n",
            "False\n",
            "1 2 3 4 5 \n",
            "{1, 2, 3, 4, 5, 100}\n",
            "{1, 2, 3, 4, 5, 100}\n",
            "[1, 2, 3, 4, 5, 100]\n",
            "{1, 2, 3, 'y', 'z', 'x'} {'z', 'x', 'y'}\n",
            "{1, 2, 3, 'y', 'z', 'x'} ['x', 'y', 'x', 'z']\n",
            "{1, 2, 3, 'y', 'z', 'x'} ('x', 'y', 'z')\n",
            "{'x', 10, 'Deep'}\n",
            "{'x', 10, 'Deep'}\n",
            "{10, 20.2, 'Deep'}\n"
          ]
        }
      ],
      "source": [
        "# No duplicate elements allowed, It wont allow duplicate entries to be inserted.\n",
        "# There is no order in set.\n",
        "# Applications: Used to find unique words or duplicate elements.\n",
        "\n",
        "a = {1, 2, 3}\n",
        "print(a, type(a))\n",
        "\n",
        "a = {1, 2, 1, 3}\n",
        "print(a, type(a))\n",
        "\n",
        "a = {True, True, False}\n",
        "print(a, type(a))\n",
        "\n",
        "a = {10, 2.0, \"x\", True, \"Fury\", (\"l\", \"m\", \"n\"), False, True, 1000}\n",
        "print(a, type(a), len(a))\n",
        "\n",
        "a = set((1, 2, 3, 4, 5, 3, 1))\n",
        "print(a, type(a), len(a))\n",
        "\n",
        "print(1 in a)\n",
        "print(\"1\" in a)\n",
        "\n",
        "# Iterate over set.\n",
        "for i in a:\n",
        "  print(i, end = ' ')\n",
        "print()\n",
        "\n",
        "# print(a[0])\n",
        "# Unique indexing, so we cannot find out what is the order of the elements.\n",
        "\n",
        "a.add(100)\n",
        "print(a)\n",
        "\n",
        "# No error, but it will not get added.\n",
        "a.add(100)\n",
        "print(a)\n",
        "\n",
        "# Convert to list.\n",
        "b = list(a)\n",
        "print(b)\n",
        "\n",
        "# Extends the set with elements of b. Extending it will not violate set properties.\n",
        "a = {1, 2, 3}\n",
        "b = {\"x\", \"y\", \"z\", \"x\"}\n",
        "a.update(b)\n",
        "print(a, b)\n",
        "\n",
        "# Extends the set with elements of list of b.\n",
        "a = {1, 2, 3}\n",
        "b = [\"x\", \"y\", \"x\", \"z\"]\n",
        "a.update(b)\n",
        "print(a, b)\n",
        "\n",
        "# Extends the set with elements of tuple of b.\n",
        "b = (\"x\", \"y\", \"z\")\n",
        "a.update(b)\n",
        "print(a, b)\n",
        "\n",
        "# Remove will give error.\n",
        "a = {\"x\", 10, 20.2, \"Deep\"}\n",
        "a.remove(20.2)\n",
        "print(a)\n",
        "\n",
        "# Discard will not give error, if key is not found.\n",
        "a = {\"x\", 10, 20.2, \"Deep\"}\n",
        "a.discard(20.2)\n",
        "print(a)\n",
        "\n",
        "a={\"x\", 10, 20.2, \"Deep\"}\n",
        "a.discard(20)\n",
        "\n",
        "# Pops the first element.\n",
        "a={\"x\", 10, 20.2, \"Deep\"}\n",
        "a.pop()\n",
        "print(a)"
      ]
    },
    {
      "cell_type": "code",
      "execution_count": null,
      "metadata": {
        "colab": {
          "base_uri": "https://localhost:8080/"
        },
        "id": "tbgABCRM1J5k",
        "outputId": "84f49405-69be-4ef0-ed70-7ee7932166c6"
      },
      "outputs": [
        {
          "name": "stdout",
          "output_type": "stream",
          "text": [
            "{'x', 10, 20.2, 'Deep'}\n",
            "[10, 20.2, 'Deep']\n",
            "set()\n",
            "{1, 2, 3, 'y', 'z', 'x'}\n",
            "{1}\n",
            "{2, 3, 'y', 'z', 'x'}\n"
          ]
        }
      ],
      "source": [
        "# Set Operations.\n",
        "\n",
        "a = {\"x\", 10, 20.2, \"Deep\"}\n",
        "print(a)\n",
        "\n",
        "# Popping the elements.\n",
        "b = list(a)\n",
        "b.pop(0)\n",
        "print(b)\n",
        "\n",
        "# Clearing the Set.\n",
        "a = {1, 2, \"x\"}\n",
        "a.clear()\n",
        "print(a)\n",
        "\n",
        "# Proper set Operations.\n",
        "a = {1, 2, 3}\n",
        "b = {\"x\",\"y\",\"z\",\"x\",1}\n",
        "c = a.union(b)\n",
        "print(c)\n",
        "\n",
        "c = a.intersection(b)\n",
        "print(c)\n",
        "\n",
        "c = a.symmetric_difference(b)\n",
        "print(c)"
      ]
    },
    {
      "cell_type": "markdown",
      "metadata": {
        "id": "dWZTmVCyxJBv"
      },
      "source": [
        "### Dictionary"
      ]
    },
    {
      "cell_type": "code",
      "execution_count": null,
      "metadata": {
        "colab": {
          "base_uri": "https://localhost:8080/"
        },
        "id": "HNIpouAs2OuJ",
        "outputId": "d9aba011-7383-4ef1-b3f2-67d1ddb23ece"
      },
      "outputs": [
        {
          "name": "stdout",
          "output_type": "stream",
          "text": [
            "{'day': 'Saturday', 'month': 'October', 'Year': 2023} <class 'dict'> 3\n",
            "Saturday 2023\n",
            "{'day': 'Saturday', 'Month': 'October', 'Year': 2023} Saturday\n",
            "{'name': 'Night_Fury', 'boolean': True, 'year': 2004, 'sports': ['Cricket', 'Football', 'Tennis']} <class 'dict'>\n",
            "Night_Fury\n",
            "{'name': 'VJTI', 'boolean': True, 'year': 2004, 'sports': ['Cricket', 'Football', 'Tennis']}\n",
            "dict_values(['VJTI', True, 2004, ['Cricket', 'Football', 'Tennis']]) <class 'builtin_function_or_method'>\n",
            "dict_values(['VJTI', True, 2004, ['Cricket', 'Football', 'Tennis']])\n",
            "{'name': 'Mumbai', 'boolean': True, 'year': 2004, 'sports': ['Cricket', 'Football', 'Tennis']} dict_values(['Mumbai', True, 2004, ['Cricket', 'Football', 'Tennis']])\n",
            "dict_items([('name', 'Mumbai'), ('boolean', True), ('year', 2004), ('sports', ['Cricket', 'Football', 'Tennis'])]) <class 'dict_items'>\n",
            "{'name': 'Maharashtra', 'boolean': True, 'year': 2004, 'sports': ['Cricket', 'Football', 'Tennis']} dict_values(['Maharashtra', True, 2004, ['Cricket', 'Football', 'Tennis']])\n",
            "{'name': 'Maharashtra', 'boolean': True, 'year': 2004, 'sports': ['Cricket', 'Football', 'Tennis'], 'Country': 'India'}\n",
            "True\n",
            "False\n",
            "{'name': 'Maharashtra', 'boolean': False, 'year': 2004, 'sports': ['Cricket', 'Football', 'Tennis'], 'Country': 'India', 'District': 'Mumbai'}\n",
            "{'Name': 'Deep', 'Boolean': 'False'}\n",
            "Deep\n",
            "('Boolean', 'False')\n",
            "{} <class 'dict'>\n",
            "name boolean year \n",
            "Deep True 2023 \n",
            "name boolean year \n",
            "Deep True 2023 \n",
            "name Deep boolean True year 2023 "
          ]
        }
      ],
      "source": [
        "# Ordered, Key-Value pairs, No Duplicate Keys.\n",
        "\n",
        "a = {\n",
        "    \"day\" : \"Saturday\",\n",
        "    \"month\" : \"October\",\n",
        "    \"Year\" : 2023\n",
        "}\n",
        "print(a, type(a), len(a))\n",
        "print(a[\"day\"], a[\"Year\"])\n",
        "\n",
        "# Left to Right Assignment it will delete left most duplicate entry.\n",
        "# In Short the last Key-Value will be accpted.\n",
        "a = {\n",
        "    \"day\" : \"Sunday\",\n",
        "    \"Month\" : \"October\",\n",
        "    \"Year\" : 2023,\n",
        "    \"day\" : \"Saturday\"\n",
        "}\n",
        "print(a, a[\"day\"])\n",
        "\n",
        "\n",
        "a = {\n",
        "    \"name\" : \"Night_Fury\",\n",
        "    \"boolean\" : True,\n",
        "    \"year\" : 2004,\n",
        "    \"sports\" : [\"Cricket\",\"Football\",\"Tennis\"]\n",
        "}\n",
        "\n",
        "print(a, type(a))\n",
        "print(a[\"name\"])\n",
        "\n",
        "# Updating the value of a Key.\n",
        "a[\"name\"] = \"VJTI\"\n",
        "print(a)\n",
        "print(a.values(), type(a.values))\n",
        "\n",
        "# For accessing only the values.\n",
        "b = a.values()\n",
        "print(b)\n",
        "\n",
        "a[\"name\"] = \"Mumbai\"\n",
        "print(a, b)\n",
        "\n",
        "# Accessing dictionary items using in-built methods.\n",
        "print(a.items(), type(a.items()))\n",
        "\n",
        "# Changing will also take place in b.\n",
        "a[\"name\"] = \"Maharashtra\"\n",
        "print(a, b)\n",
        "\n",
        "# New key will be added if not present.\n",
        "a[\"Country\"] = \"India\"\n",
        "print(a)\n",
        "\n",
        "# Checks only for key.\n",
        "print(\"Country\" in a)\n",
        "print(\"School\" in a)\n",
        "\n",
        "# Key-Value will be added to the dictionary.\n",
        "a.update({\"boolean\" : False})\n",
        "a.update({\"District\" : \"Mumbai\"})\n",
        "print(a)\n",
        "\n",
        "a = {\n",
        "    \"Name\" : \"Deep\",\n",
        "    \"Boolean\" : \"False\"\n",
        "}\n",
        "print(a)\n",
        "\n",
        "# It will give the value of Key : \"Name\"\n",
        "x = a.pop(\"Name\")\n",
        "print(x)\n",
        "\n",
        "# It will be of type tuple, Key-Value pair.\n",
        "x = a.popitem()\n",
        "print(x)\n",
        "\n",
        "# The above functions removes the pairs and makes an Empty dict.\n",
        "print(a, type(a))\n",
        "\n",
        "a = {\n",
        "    \"name\" : \"Deep\",\n",
        "    \"boolean\" : True,\n",
        "    \"year\" : 2023\n",
        "}\n",
        "\n",
        "# Iterate over Dictionary.\n",
        "for i in a:\n",
        "  # Prints keys.\n",
        "  print(i, end = ' ')\n",
        "print()\n",
        "\n",
        "for i in a:\n",
        "  # Prints values.\n",
        "  print(a[i], end = ' ')\n",
        "print()\n",
        "\n",
        "for i in a.keys():\n",
        "  print(i, end = ' ')\n",
        "print()\n",
        "\n",
        "for i in a.values():\n",
        "  print(i, end = ' ')\n",
        "print()\n",
        "\n",
        "for i, j in a.items():\n",
        "  print(i, j, end = ' ')"
      ]
    },
    {
      "cell_type": "code",
      "execution_count": null,
      "metadata": {
        "colab": {
          "base_uri": "https://localhost:8080/"
        },
        "id": "Lys63DRi6ibz",
        "outputId": "22af8d82-aa54-4f75-e588-acdb0b01196d"
      },
      "outputs": [
        {
          "name": "stdout",
          "output_type": "stream",
          "text": [
            "{'student1': {'name': 'Deep', 'rn': 2201800729, 'AY': 2023}, 'student2': {'name': 'Aditya', 'rn': 221080076, 'AY': 2023}, 'student3': {'name': 'Aastha', 'rn': 22081023, 'AY': 2023}}\n",
            "2201800729\n"
          ]
        }
      ],
      "source": [
        "# Dictionary of Dictionaries.\n",
        "student = {\n",
        "    \"student1\":{\"name\":\"Deep\", \"rn\":221080029, \"AY\":2023},\n",
        "    \"student2\":{\"name\":\"Aditya\", \"rn\":221080076, \"AY\":2023},\n",
        "    \"student3\":{\"name\":\"Aastha\", \"rn\":221081023, \"AY\":2023}\n",
        "}\n",
        "\n",
        "print(student)\n",
        "print(student[\"student1\"][\"rn\"])\n",
        "\n",
        "student1 = {\"name\":\"Deep\", \"rn\":221080029, \"AY\":2023}\n",
        "student2 = {\"name\":\"Aditya\", \"rn\":221080076, \"A\":23}\n",
        "student3 = {\"name\":\"Aastha\", \"rn\":221081023, \"Y\":223}\n",
        "\n",
        "student = {\n",
        "    \"Student1\":student1,\n",
        "    \"student2\":student2,\n",
        "    \"student3\":student3\n",
        "}"
      ]
    },
    {
      "cell_type": "markdown",
      "metadata": {
        "id": "n-RvPvje6Z7e"
      },
      "source": [
        "### Conditional Statements."
      ]
    },
    {
      "cell_type": "code",
      "execution_count": null,
      "metadata": {
        "colab": {
          "base_uri": "https://localhost:8080/"
        },
        "id": "w692KWuwI9Ob",
        "outputId": "87daf805-4061-4965-e601-dabf06985847"
      },
      "outputs": [
        {
          "name": "stdout",
          "output_type": "stream",
          "text": [
            "1\n",
            "3\n",
            "1\n",
            "1\n",
            "2\n",
            "Passed\n",
            "0 1 \n",
            "0 1 3 4 \n",
            "0 1 3 4 \n",
            "0 1 3 4 Finish\n"
          ]
        }
      ],
      "source": [
        "a, b, c = 1, 2, 3\n",
        "if a < b:\n",
        "  print(a)\n",
        "\n",
        "# elif, short form of else if.\n",
        "if b < a:\n",
        "  print(a)\n",
        "elif c > a:\n",
        "  print(c)\n",
        "\n",
        "if a < b : print(a)\n",
        "\n",
        "# Short term of if-else.\n",
        "print(a) if a < b else print(b)\n",
        "print(a) if a > b else print(b)\n",
        "\n",
        "# pass keyword.\n",
        "if a < b:\n",
        "  pass\n",
        "  print(\"Passed\")\n",
        "\n",
        "# break - Comes out of the loop.\n",
        "for i in range(0, 5):\n",
        "  if i == 2:\n",
        "    break\n",
        "  else:\n",
        "    print(i, end = ' ')\n",
        "print()\n",
        "\n",
        "# continue - Goes to the next iteration.\n",
        "for i in range(0, 5):\n",
        "  if i == 2:\n",
        "    continue\n",
        "  else:\n",
        "    print(i, end = ' ')\n",
        "print()\n",
        "\n",
        "# pass is same as continue.\n",
        "for i in range(0, 5):\n",
        "  if i == 2:\n",
        "    pass\n",
        "  else:\n",
        "    print(i, end = ' ')\n",
        "print()\n",
        "\n",
        "for i in range(0, 5):\n",
        "  if i == 2:\n",
        "    continue\n",
        "  else:\n",
        "    print(i, end  = ' ')\n",
        "else:\n",
        "  print(\"Finish\")"
      ]
    },
    {
      "cell_type": "markdown",
      "metadata": {
        "id": "PME2I_Haup83"
      },
      "source": [
        "### Collatz\n"
      ]
    },
    {
      "cell_type": "code",
      "execution_count": null,
      "metadata": {
        "colab": {
          "base_uri": "https://localhost:8080/"
        },
        "id": "9wMsLP3busQn",
        "outputId": "36822f41-8ad0-4186-f21c-97922b4f411c"
      },
      "outputs": [
        {
          "name": "stdout",
          "output_type": "stream",
          "text": [
            "[2, 1, 4, 2, 1]\n",
            "[4, 2, 1]\n",
            "[1, 4, 2, 1]\n"
          ]
        }
      ],
      "source": [
        "def Collatz(n):\n",
        "    '''\n",
        "    This function prints the collatz sequence.\n",
        "    n is an positive integer.\n",
        "    '''\n",
        "    if n < 0:\n",
        "      print('Please Enter Postive Number.')\n",
        "      return\n",
        "\n",
        "    a = []\n",
        "    while a[-3:] != [4, 2, 1]:\n",
        "      if n % 2 == 0:\n",
        "        n = n / 2\n",
        "      else:\n",
        "        n = n * 3 + 1\n",
        "      a.append(int(n))\n",
        "    print(a)\n",
        "\n",
        "# Testing the function.\n",
        "Collatz(4)\n",
        "Collatz(1)\n",
        "Collatz(2)"
      ]
    },
    {
      "cell_type": "code",
      "execution_count": null,
      "metadata": {
        "colab": {
          "base_uri": "https://localhost:8080/"
        },
        "id": "mUDQcbMWwYhg",
        "outputId": "ad6576d6-e4e9-4536-c19e-76e407c6f8af"
      },
      "outputs": [
        {
          "name": "stdout",
          "output_type": "stream",
          "text": [
            "100\n"
          ]
        }
      ],
      "source": [
        "# Taking List as Input.\n",
        "a = [100]\n",
        "\n",
        "def product(a):\n",
        "  '''\n",
        "  This function returns the product of all the elements of list.\n",
        "  a is a list containing integers.\n",
        "  '''\n",
        "\n",
        "  # Base Case\n",
        "  if len(a) == 1:\n",
        "    print(a[0])\n",
        "    return\n",
        "\n",
        "  # Working\n",
        "  a[0] *= a.pop()\n",
        "\n",
        "  # Recursive Call\n",
        "  product(a)\n",
        "\n",
        "# Testing the function.\n",
        "product(a)"
      ]
    },
    {
      "cell_type": "markdown",
      "metadata": {
        "id": "G3L4lnkvIsGP"
      },
      "source": [
        "### Lambda"
      ]
    },
    {
      "cell_type": "code",
      "execution_count": null,
      "metadata": {
        "colab": {
          "base_uri": "https://localhost:8080/"
        },
        "id": "RtlhDKD6u8Al",
        "outputId": "a829742c-5406-454b-f5b8-519e6ba5069f"
      },
      "outputs": [
        {
          "name": "stdout",
          "output_type": "stream",
          "text": [
            "4\n",
            "6\n",
            "33\n"
          ]
        }
      ],
      "source": [
        "a = lambda x: x * 2\n",
        "print(a(2))\n",
        "\n",
        "a = lambda x, y, z: x * y * z\n",
        "print(a(1, 2, 3))\n",
        "\n",
        "def func(n):\n",
        "  return lambda a: a * n\n",
        "\n",
        "triple = func(3)\n",
        "print(triple(11))"
      ]
    },
    {
      "cell_type": "markdown",
      "metadata": {
        "id": "T5W3Rp-79Kx2"
      },
      "source": [
        "### Map"
      ]
    },
    {
      "cell_type": "code",
      "execution_count": null,
      "metadata": {
        "colab": {
          "base_uri": "https://localhost:8080/"
        },
        "id": "QAV6zy4d9G-f",
        "outputId": "cfacee0f-8eb8-4fc9-e4de-ec5811406641"
      },
      "outputs": [
        {
          "name": "stdout",
          "output_type": "stream",
          "text": [
            "[2, 4, 6, 8]\n",
            "[2, 4, 6, 8]\n"
          ]
        }
      ],
      "source": [
        "def addition(n):\n",
        "  return n + n\n",
        "\n",
        "numbers = (1, 2, 3, 4)\n",
        "result = map(addition, numbers)\n",
        "print(list(result))\n",
        "\n",
        "result = map(lambda x: x + x, numbers)\n",
        "print(list(result))"
      ]
    },
    {
      "cell_type": "code",
      "execution_count": null,
      "metadata": {
        "colab": {
          "base_uri": "https://localhost:8080/"
        },
        "id": "dbctlKtU-U4t",
        "outputId": "40da474e-7e3b-4b68-c4eb-67000dbd93e9"
      },
      "outputs": [
        {
          "name": "stdout",
          "output_type": "stream",
          "text": [
            "[2, 4, 6]\n"
          ]
        }
      ],
      "source": [
        "number1 = [1, 2, 3]\n",
        "number2 = [1, 2, 3]\n",
        "\n",
        "result = map(lambda x, y: x + y, number1, number2)\n",
        "print(list(result))"
      ]
    },
    {
      "cell_type": "markdown",
      "metadata": {
        "id": "dCb1bQJK-qid"
      },
      "source": [
        "### Filter"
      ]
    },
    {
      "cell_type": "code",
      "execution_count": null,
      "metadata": {
        "colab": {
          "base_uri": "https://localhost:8080/"
        },
        "id": "rancU-VH-sid",
        "outputId": "a4302dae-2ffc-423a-9c03-8e5b67ce2bff"
      },
      "outputs": [
        {
          "name": "stdout",
          "output_type": "stream",
          "text": [
            "The filtered letters are: \n",
            "a e "
          ]
        }
      ],
      "source": [
        "# The filter method filters the given sequence with the help of a function and returns the values which are true.\n",
        "def func(variable):\n",
        "  letters = ['a', 'e', 'i', 'o', 'u']\n",
        "  if(variable in letters):\n",
        "    return True\n",
        "  else:\n",
        "    return False\n",
        "\n",
        "sequence = ['m', 'g', 'h', 'p', 'a', 'e']\n",
        "filtered = filter(func, sequence)\n",
        "\n",
        "print('The filtered letters are: ')\n",
        "for s in filtered:\n",
        "  print(s, end = ' ')"
      ]
    },
    {
      "cell_type": "code",
      "execution_count": null,
      "metadata": {
        "colab": {
          "base_uri": "https://localhost:8080/"
        },
        "id": "F1Are8uUAQ6d",
        "outputId": "6bc2a39b-3e91-4556-ce7d-78e660c98f22"
      },
      "outputs": [
        {
          "name": "stdout",
          "output_type": "stream",
          "text": [
            "[1, 3, 5, 7]\n",
            "[0, 2, 4, 6, 8]\n"
          ]
        }
      ],
      "source": [
        "sequence = [0, 1, 2, 3, 4, 5, 6, 7, 8]\n",
        "\n",
        "# Odd Numbers\n",
        "result = filter(lambda x: x & 1 != 0, sequence)\n",
        "print(list(result))\n",
        "\n",
        "# Even Numbers\n",
        "result = filter(lambda x: x & 1 == 0, sequence)\n",
        "print(list(result))"
      ]
    },
    {
      "cell_type": "markdown",
      "metadata": {
        "id": "41udfADjA8nX"
      },
      "source": [
        "### Reduce"
      ]
    },
    {
      "cell_type": "code",
      "execution_count": null,
      "metadata": {
        "colab": {
          "base_uri": "https://localhost:8080/"
        },
        "id": "xTqNR8SeA-ti",
        "outputId": "b45afce2-573d-4e33-bf96-0cceef138fdb"
      },
      "outputs": [
        {
          "name": "stdout",
          "output_type": "stream",
          "text": [
            "23\n",
            "8\n"
          ]
        }
      ],
      "source": [
        "# The output is a single output value.\n",
        "import functools\n",
        "a = [1, 3, 5, 6, 8]\n",
        "\n",
        "# Sum of all elements.\n",
        "print(functools.reduce(lambda a, b: a + b, a))\n",
        "\n",
        "# Largest of all elements.\n",
        "print(functools.reduce(lambda a, b: a if a > b else b, a))"
      ]
    },
    {
      "cell_type": "markdown",
      "metadata": {
        "id": "2KETejrpvb69"
      },
      "source": [
        "### Documentation\n"
      ]
    },
    {
      "cell_type": "code",
      "execution_count": null,
      "metadata": {
        "colab": {
          "base_uri": "https://localhost:8080/"
        },
        "id": "4uHnFTHNvhAe",
        "outputId": "f06361e2-b740-4633-ccc6-ffea9ec9a4fa"
      },
      "outputs": [
        {
          "name": "stdout",
          "output_type": "stream",
          "text": [
            "200\n"
          ]
        }
      ],
      "source": [
        "def add(x, y):\n",
        "  '''\n",
        "  (int, int) -> int\n",
        "  Return the addition of two integer number.\n",
        "  '''\n",
        "  return int(x) + int(y)\n",
        "\n",
        "print(add(100.1, 100))"
      ]
    },
    {
      "cell_type": "code",
      "execution_count": null,
      "metadata": {
        "colab": {
          "base_uri": "https://localhost:8080/"
        },
        "id": "XHKPGpGIwI4M",
        "outputId": "27109bcc-2b5a-43f9-d058-82e013fa8af1"
      },
      "outputs": [
        {
          "name": "stdout",
          "output_type": "stream",
          "text": [
            "Help on function add in module __main__:\n",
            "\n",
            "add(x, y)\n",
            "    (int, int) -> int\n",
            "    Return the addition of two integer number.\n",
            "\n"
          ]
        }
      ],
      "source": [
        "help(add)"
      ]
    },
    {
      "cell_type": "markdown",
      "metadata": {
        "id": "SePAW9oqwQAV"
      },
      "source": [
        "### Scope Of Variable"
      ]
    },
    {
      "cell_type": "code",
      "execution_count": null,
      "metadata": {
        "colab": {
          "base_uri": "https://localhost:8080/"
        },
        "id": "HHIVJdL4wald",
        "outputId": "2b156af3-4483-438f-c9f4-389cde65bd83"
      },
      "outputs": [
        {
          "name": "stdout",
          "output_type": "stream",
          "text": [
            "1\n"
          ]
        }
      ],
      "source": [
        "# Local Scope\n",
        "def abc():\n",
        "  x = 1\n",
        "  print(x)\n",
        "\n",
        "abc()\n",
        "# print(x)"
      ]
    },
    {
      "cell_type": "code",
      "execution_count": null,
      "metadata": {
        "colab": {
          "base_uri": "https://localhost:8080/"
        },
        "id": "_L_nMbsmw3iF",
        "outputId": "91986be8-d407-45a1-a685-1b4ca82358ab"
      },
      "outputs": [
        {
          "name": "stdout",
          "output_type": "stream",
          "text": [
            "1\n",
            "2\n"
          ]
        }
      ],
      "source": [
        "# Global Scope\n",
        "x = 1\n",
        "def abc():\n",
        "  print(x)\n",
        "\n",
        "abc()\n",
        "x += 1\n",
        "abc()"
      ]
    },
    {
      "cell_type": "code",
      "execution_count": null,
      "metadata": {
        "colab": {
          "base_uri": "https://localhost:8080/"
        },
        "id": "9hA13Cr4xxk9",
        "outputId": "5b56c9d4-8a3b-4903-c067-bc0910aeba20"
      },
      "outputs": [
        {
          "name": "stdout",
          "output_type": "stream",
          "text": [
            "1\n",
            "100\n"
          ]
        }
      ],
      "source": [
        "x = 100 # Global\n",
        "def abc():\n",
        "  x = 1 # Local\n",
        "  print(x)\n",
        "\n",
        "abc()\n",
        "print(x)"
      ]
    },
    {
      "cell_type": "code",
      "execution_count": null,
      "metadata": {
        "colab": {
          "base_uri": "https://localhost:8080/"
        },
        "id": "f0--hkcKyNHN",
        "outputId": "26e271e1-0e95-4e47-94ac-3f0b5b05cb43"
      },
      "outputs": [
        {
          "name": "stdout",
          "output_type": "stream",
          "text": [
            "1\n",
            "100\n",
            "1\n"
          ]
        }
      ],
      "source": [
        "# Global Keyword\n",
        "def abc():\n",
        "  global x\n",
        "  x = 1\n",
        "  print(x)\n",
        "\n",
        "abc()\n",
        "x = 100\n",
        "print(x)\n",
        "abc()"
      ]
    },
    {
      "cell_type": "markdown",
      "metadata": {
        "id": "ZnEdOTKFyvro"
      },
      "source": [
        "### Iterator"
      ]
    },
    {
      "cell_type": "code",
      "execution_count": null,
      "metadata": {
        "colab": {
          "base_uri": "https://localhost:8080/"
        },
        "id": "1y3Bq4uGynn9",
        "outputId": "d11ec8c6-79ee-4770-ad95-e0b8ce28defc"
      },
      "outputs": [
        {
          "name": "stdout",
          "output_type": "stream",
          "text": [
            "['abc', 'xyz', 'uvw']\n",
            "abc\n",
            "xyz\n",
            "uvw\n"
          ]
        }
      ],
      "source": [
        "a = ['abc', 'xyz', 'uvw']\n",
        "b = iter(a)\n",
        "\n",
        "print(a)\n",
        "print(next(b))\n",
        "print(next(b))\n",
        "print(next(b))"
      ]
    },
    {
      "cell_type": "markdown",
      "metadata": {
        "id": "1MUfJ0RVzl5t"
      },
      "source": [
        "### Exception Handling"
      ]
    },
    {
      "cell_type": "code",
      "execution_count": null,
      "metadata": {
        "colab": {
          "base_uri": "https://localhost:8080/"
        },
        "id": "VRc3yLAszow9",
        "outputId": "564dca97-cbc7-4314-a0cf-069126fbd770"
      },
      "outputs": [
        {
          "name": "stdout",
          "output_type": "stream",
          "text": [
            "Error: x is not defined\n"
          ]
        }
      ],
      "source": [
        "# Restart Runtime.\n",
        "try:\n",
        "  print(x)\n",
        "except:\n",
        "  print(\"Error: x is not defined\")"
      ]
    },
    {
      "cell_type": "code",
      "execution_count": null,
      "metadata": {
        "colab": {
          "base_uri": "https://localhost:8080/"
        },
        "id": "rsVVyU6nz3Et",
        "outputId": "581c9e2b-65d7-4850-aec4-bc580b616bf3"
      },
      "outputs": [
        {
          "name": "stdout",
          "output_type": "stream",
          "text": [
            "Other Error\n"
          ]
        }
      ],
      "source": [
        "try:\n",
        "  print(1 / 0)\n",
        "  print(x)\n",
        "except NameError:\n",
        "  print(\"Error: x is not defined\")\n",
        "except:\n",
        "  print(\"Other Error\")"
      ]
    },
    {
      "cell_type": "code",
      "execution_count": 2,
      "metadata": {
        "colab": {
          "base_uri": "https://localhost:8080/"
        },
        "id": "NJ6Y5bgE0F-t",
        "outputId": "99016d72-f7fa-4d5f-b2bb-df0b0b3cd914"
      },
      "outputs": [
        {
          "name": "stdout",
          "output_type": "stream",
          "text": [
            "Error: x is not defined\n"
          ]
        }
      ],
      "source": [
        "# else - works when no error is encountered.\n",
        "try:\n",
        "  print(x)\n",
        "  print(\"Night Fury\")\n",
        "except:\n",
        "  print(\"Error: x is not defined\")\n",
        "else:\n",
        "  print(\"VJTI\")"
      ]
    },
    {
      "cell_type": "code",
      "execution_count": null,
      "metadata": {
        "colab": {
          "base_uri": "https://localhost:8080/"
        },
        "id": "w-jkqxqj0bN9",
        "outputId": "bd9ac95d-13d0-4d83-f416-62566deed34d"
      },
      "outputs": [
        {
          "name": "stdout",
          "output_type": "stream",
          "text": [
            "Error: x is not defined\n",
            "VJTI\n"
          ]
        }
      ],
      "source": [
        "# finally - works everytime.\n",
        "try:\n",
        "  print(x)\n",
        "except:\n",
        "  print(\"Error: x is not defined\")\n",
        "finally:\n",
        "  print(\"VJTI\")"
      ]
    },
    {
      "cell_type": "code",
      "execution_count": null,
      "metadata": {
        "colab": {
          "base_uri": "https://localhost:8080/"
        },
        "id": "n_sCJbCM0s4t",
        "outputId": "7138d6c7-2e84-483d-d7ab-07eaef7a711f"
      },
      "outputs": [
        {
          "name": "stdout",
          "output_type": "stream",
          "text": [
            "Please enter a number: 2.2\n",
            "Oops! That was not a valid number, Try again...\n",
            "Please enter a number: 2\n"
          ]
        }
      ],
      "source": [
        "while True:\n",
        "  try:\n",
        "    x = int(input(\"Please enter a number: \"))\n",
        "    break\n",
        "  except:\n",
        "    print(\"Oops! That was not a valid number, Try again...\")"
      ]
    },
    {
      "cell_type": "code",
      "execution_count": null,
      "metadata": {
        "colab": {
          "base_uri": "https://localhost:8080/"
        },
        "id": "1dooBPoj1CQu",
        "outputId": "104debba-54a2-4e79-b47b-dbc1c2d39d64"
      },
      "outputs": [
        {
          "name": "stdout",
          "output_type": "stream",
          "text": [
            "Please enter a number: 0\n",
            "Try again...\n"
          ]
        }
      ],
      "source": [
        "try:\n",
        "  x = int(input(\"Please enter a number: \"))\n",
        "  y = x / 0\n",
        "except ValueError:\n",
        "  print(\"Oops! That was not a valid number, Try again...\")\n",
        "except:\n",
        "    print(\"Try again...\")"
      ]
    },
    {
      "cell_type": "markdown",
      "metadata": {
        "id": "bGvCR8-95_xm"
      },
      "source": [
        "### Raise Exception"
      ]
    },
    {
      "cell_type": "code",
      "execution_count": 3,
      "metadata": {
        "colab": {
          "base_uri": "https://localhost:8080/"
        },
        "id": "YWDULob93IVd",
        "outputId": "c34a10b9-7f69-4fd8-873f-cbe17472c313"
      },
      "outputs": [
        {
          "name": "stdout",
          "output_type": "stream",
          "text": [
            "<class 'TypeError'> :: Input argument cannot be Negative\n"
          ]
        }
      ],
      "source": [
        "import math\n",
        "\n",
        "def square(x):\n",
        "  if int(x) == 0:\n",
        "    raise ValueError('Input argument cannot be Zero')\n",
        "  if int(x) < 0:\n",
        "    raise TypeError('Input argument cannot be Negative')\n",
        "\n",
        "  return math.pow(int(x), 2)\n",
        "\n",
        "try:\n",
        "  y = square(input('Please Enter a number: '))\n",
        "  print(y)\n",
        "except(ValueError, TypeError) as e:\n",
        "  print(type(e), '::', e)"
      ]
    },
    {
      "cell_type": "code",
      "execution_count": null,
      "metadata": {
        "id": "UgWCvXAU3Lk9"
      },
      "outputs": [],
      "source": [
        "x = -1\n",
        "if x < 0:\n",
        "  raise Exception('Argument must be positive.')"
      ]
    },
    {
      "cell_type": "code",
      "execution_count": null,
      "metadata": {
        "id": "44iwUI3I3XDN"
      },
      "outputs": [],
      "source": [
        "x = -1\n",
        "if x < 0:\n",
        "  raise TypeError('Argument must be positive.')"
      ]
    },
    {
      "cell_type": "code",
      "execution_count": null,
      "metadata": {
        "colab": {
          "base_uri": "https://localhost:8080/"
        },
        "id": "8rWYBqBU3lf9",
        "outputId": "6292807e-358a-4e11-a659-f32f4a18f0ae"
      },
      "outputs": [
        {
          "name": "stdout",
          "output_type": "stream",
          "text": [
            "The entry is:  a\n",
            "Oops! <class 'ValueError'>  occured\n",
            "Next entry.\n",
            "\n",
            "The entry is:  0\n",
            "Oops! <class 'ZeroDivisionError'>  occured\n",
            "Next entry.\n",
            "\n",
            "The entry is:  2\n",
            "The reciprocal of  2 is  0.5\n"
          ]
        }
      ],
      "source": [
        "import sys\n",
        "\n",
        "randomList = ['a', 0, 2]\n",
        "for entry in randomList:\n",
        "  try:\n",
        "    print('The entry is: ', entry)\n",
        "    r1 = 1 / int(entry)\n",
        "    print('The reciprocal of ', entry, 'is ', r1)\n",
        "  except:\n",
        "    print('Oops!', sys.exc_info()[0], ' occured')\n",
        "    print('Next entry.')\n",
        "    print()"
      ]
    },
    {
      "cell_type": "markdown",
      "metadata": {
        "id": "Z0Mhi1l34SPH"
      },
      "source": [
        "### JSON"
      ]
    },
    {
      "cell_type": "code",
      "execution_count": null,
      "metadata": {
        "id": "g73xu4Nm4PBN"
      },
      "outputs": [],
      "source": [
        "import json"
      ]
    },
    {
      "cell_type": "code",
      "execution_count": null,
      "metadata": {
        "colab": {
          "base_uri": "https://localhost:8080/"
        },
        "id": "MbebxjCb4Wvu",
        "outputId": "0c5adc71-75d4-4b7b-ffa8-9689a80c719a"
      },
      "outputs": [
        {
          "name": "stdout",
          "output_type": "stream",
          "text": [
            "{'Name': 'Deep', 'Inst': 'VJTI', 'Id': 221080029} <class 'dict'>\n"
          ]
        }
      ],
      "source": [
        "a = '{ \"Name\":\"Deep\", \"Inst\":\"VJTI\", \"Id\":221080029 }'\n",
        "\n",
        "y = json.loads(a)\n",
        "print(y, type(y))"
      ]
    },
    {
      "cell_type": "code",
      "execution_count": null,
      "metadata": {
        "colab": {
          "base_uri": "https://localhost:8080/"
        },
        "id": "MH2kbsQl46at",
        "outputId": "fef2389d-2536-42ef-c164-79f98021846e"
      },
      "outputs": [
        {
          "name": "stdout",
          "output_type": "stream",
          "text": [
            "{\"Name\": \"Deep\", \"Inst\": \"VJTI\", \"Id\": 221080029} <class 'str'>\n",
            "[1, 2, 3, 4] <class 'str'>\n",
            "[1, 2, 3] <class 'str'>\n",
            "\"Night_Fury\" <class 'str'>\n",
            "true <class 'str'>\n"
          ]
        }
      ],
      "source": [
        "a = { \"Name\":\"Deep\", \"Inst\":\"VJTI\", \"Id\":221080029 }\n",
        "y = json.dumps(a)\n",
        "print(y, type(y))\n",
        "\n",
        "a = [1, 2, 3, 4]\n",
        "y = json.dumps(a)\n",
        "print(y, type(y))\n",
        "\n",
        "a = (1, 2, 3)\n",
        "y = json.dumps(a)\n",
        "print(y, type(y))\n",
        "\n",
        "a = 'Night_Fury'\n",
        "y = json.dumps(a)\n",
        "print(y, type(y))\n",
        "\n",
        "a = True\n",
        "y = json.dumps(a)\n",
        "print(y, type(y))"
      ]
    }
  ],
  "metadata": {
    "colab": {
      "collapsed_sections": [
        "sni5mo0kg6kw",
        "cHnt53_MeuXV",
        "VYq0QZGDe6pQ",
        "CaiH1i5Ue_i9",
        "GivLjl2CfCd6",
        "8qPw-d52fJZX",
        "2bwe9F5WfMz4",
        "UCxcemBZfRTr",
        "TNA8L4SCfTzT",
        "u6-JEpCHfaVK",
        "8uKR4anWfd8j",
        "YoFw2Pq8fifD",
        "4WpRzD9MfmZi",
        "QWSq25q4fss5",
        "XZF8wLkEf6vP",
        "fcCuXSClf9eA",
        "C8_1kkxtgAdN",
        "b4ei-i5egD7o",
        "T-gSCtEmgMtw",
        "a8FXaPgTgOqv",
        "fSknrQMAgQ_L",
        "vAUIpauNgUKp",
        "WvmxaZeYgW4J",
        "C9Wnffvmgcql",
        "l6q-aXM6pRtm",
        "8QGow5-Mgfmo",
        "tKR6Sx74gpjC",
        "rRk44aF_gjEM",
        "A2QKdHpupsnP",
        "LqeY9lREsGdD",
        "ihiDRctIxGme",
        "dWZTmVCyxJBv",
        "n-RvPvje6Z7e",
        "PME2I_Haup83",
        "G3L4lnkvIsGP",
        "T5W3Rp-79Kx2",
        "dCb1bQJK-qid",
        "41udfADjA8nX",
        "2KETejrpvb69",
        "SePAW9oqwQAV",
        "ZnEdOTKFyvro",
        "1MUfJ0RVzl5t",
        "bGvCR8-95_xm",
        "Z0Mhi1l34SPH"
      ],
      "provenance": []
    },
    "kernelspec": {
      "display_name": "Python 3",
      "name": "python3"
    },
    "language_info": {
      "codemirror_mode": {
        "name": "ipython",
        "version": 3
      },
      "file_extension": ".py",
      "mimetype": "text/x-python",
      "name": "python",
      "nbconvert_exporter": "python",
      "pygments_lexer": "ipython3",
      "version": "3.11.5"
    }
  },
  "nbformat": 4,
  "nbformat_minor": 0
}
